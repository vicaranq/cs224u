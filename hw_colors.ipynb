{
 "cells": [
  {
   "cell_type": "markdown",
   "metadata": {},
   "source": [
    "# Homework and bake-off: pragmatic color descriptions"
   ]
  },
  {
   "cell_type": "code",
   "execution_count": null,
   "metadata": {},
   "outputs": [],
   "source": [
    "__author__ = \"Christopher Potts\"\n",
    "__version__ = \"CS224u, Stanford, Summer 2021\""
   ]
  },
  {
   "cell_type": "markdown",
   "metadata": {},
   "source": [
    "## Contents\n",
    "\n",
    "1. [Overview](#Overview)\n",
    "1. [Set-up](#Set-up)\n",
    "1. [All two-word examples as a dev corpus](#All-two-word-examples-as-a-dev-corpus)\n",
    "1. [Dev dataset](#Dev-dataset)\n",
    "1. [Random train–test split for development](#Random-train–test-split-for-development)\n",
    "1. [Question 1: Improve the tokenizer [1 point]](#Question-1:-Improve-the-tokenizer-[1-point])\n",
    "1. [Use the tokenizer](#Use-the-tokenizer)\n",
    "1. [Question 2: Improve the color representations [1 point]](#Question-2:-Improve-the-color-representations-[1-point])\n",
    "1. [Use the color representer](#Use-the-color-representer)\n",
    "1. [Initial model](#Initial-model)\n",
    "1. [Question 3: GloVe embeddings [1 point]](#Question-3:-GloVe-embeddings-[1-point])\n",
    "1. [Try the GloVe representations](#Try-the-GloVe-representations)\n",
    "1. [Question 4: Color context [3 points]](#Question-4:-Color-context-[3-points])\n",
    "1. [Your original system [3 points]](#Your-original-system-[3-points])\n",
    "1. [Bakeoff [1 point]](#Bakeoff-[1-point])\n",
    "1. [Submission Instruction](#Submission-Instruction)"
   ]
  },
  {
   "cell_type": "markdown",
   "metadata": {},
   "source": [
    "## Overview\n",
    "\n",
    "This homework and associated bake-off are oriented toward building an effective system for generating color descriptions that are pragmatic in the sense that they would help a reader/listener figure out which color was being referred to in a shared context consisting of a target color (whose identity is known only to the describer/speaker) and a set of distractors.\n",
    "\n",
    "The notebook [colors_overview.ipynb](colors_overview.ipynb) should be studied before work on this homework begins. That notebook provides backgroud on the task, the dataset, and the modeling code that you will be using and adapting.\n",
    "\n",
    "The homework questions are more open-ended than previous ones have been. Rather than asking you to implement pre-defined functionality, they ask you to try to improve baseline components of the full system in ways that you find to be effective. As usual, this culminates in a prompt asking you to develop a novel system for entry into the bake-off. In this case, though, the work you do for the homework will likely be directly incorporated into that system (not required, but an efficient way to work at the very least)."
   ]
  },
  {
   "cell_type": "markdown",
   "metadata": {},
   "source": [
    "## Set-up"
   ]
  },
  {
   "cell_type": "markdown",
   "metadata": {},
   "source": [
    "See [colors_overview.ipynb](colors_overview.ipynb) for set-up in instructions and other background details."
   ]
  },
  {
   "cell_type": "code",
   "execution_count": 164,
   "metadata": {},
   "outputs": [],
   "source": [
    "from colors import ColorsCorpusReader\n",
    "from nltk.translate.bleu_score import corpus_bleu\n",
    "import numpy as np\n",
    "import os\n",
    "import pandas as pd\n",
    "from sklearn.model_selection import train_test_split\n",
    "from torch_color_describer import ContextualColorDescriber\n",
    "from torch_color_describer import create_example_dataset\n",
    "\n",
    "import utils\n",
    "from utils import START_SYMBOL, END_SYMBOL, UNK_SYMBOL"
   ]
  },
  {
   "cell_type": "code",
   "execution_count": 2,
   "metadata": {},
   "outputs": [],
   "source": [
    "utils.fix_random_seeds()"
   ]
  },
  {
   "cell_type": "code",
   "execution_count": 3,
   "metadata": {},
   "outputs": [],
   "source": [
    "COLORS_SRC_FILENAME = os.path.join(\n",
    "    \"data\", \"colors\", \"filteredCorpus.csv\")"
   ]
  },
  {
   "cell_type": "markdown",
   "metadata": {},
   "source": [
    "## All two-word examples as a dev corpus\n",
    "\n",
    "So that you don't have to sit through excessively long training runs during development, I suggest working with the two-word-only subset of the corpus until you enter into the late stages of system testing."
   ]
  },
  {
   "cell_type": "code",
   "execution_count": 4,
   "metadata": {},
   "outputs": [],
   "source": [
    "dev_corpus = ColorsCorpusReader(\n",
    "    COLORS_SRC_FILENAME,\n",
    "    word_count=2,\n",
    "    normalize_colors=True)"
   ]
  },
  {
   "cell_type": "code",
   "execution_count": 5,
   "metadata": {},
   "outputs": [],
   "source": [
    "dev_examples = list(dev_corpus.read())"
   ]
  },
  {
   "cell_type": "markdown",
   "metadata": {},
   "source": [
    "This subset has about one-third the examples of the full corpus:"
   ]
  },
  {
   "cell_type": "code",
   "execution_count": 6,
   "metadata": {},
   "outputs": [
    {
     "data": {
      "text/plain": [
       "13890"
      ]
     },
     "execution_count": 6,
     "metadata": {},
     "output_type": "execute_result"
    }
   ],
   "source": [
    "len(dev_examples)"
   ]
  },
  {
   "cell_type": "markdown",
   "metadata": {},
   "source": [
    "We __should__ worry that it's not a fully representative sample. Most of the descriptions in the full corpus are shorter, and a large proportion are longer. So this dataset is mainly for debugging, development, and general hill-climbing. All findings should be validated on the full dataset at some point."
   ]
  },
  {
   "cell_type": "code",
   "execution_count": 7,
   "metadata": {},
   "outputs": [
    {
     "data": {
      "text/plain": [
       "{'normalize_colors': True,\n",
       " 'contents': 'Medium pink',\n",
       " 'gameid': '1124-1',\n",
       " 'roundNum': 3,\n",
       " 'condition': 'close',\n",
       " 'outcome': False,\n",
       " 'clickStatus': 'distr2',\n",
       " 'color_data': [{'type': 'click',\n",
       "   'Status': 'distr2',\n",
       "   'rep': [0.8083333333333333, 0.5, 0.59],\n",
       "   'speaker': 3,\n",
       "   'listener': 3},\n",
       "  {'type': 'alt1',\n",
       "   'Status': 'target',\n",
       "   'rep': [0.8361111111111111, 0.5, 0.57],\n",
       "   'speaker': 2,\n",
       "   'listener': 2},\n",
       "  {'type': 'alt2',\n",
       "   'Status': 'distr1',\n",
       "   'rep': [0.8388888888888889, 0.5, 0.86],\n",
       "   'speaker': 1,\n",
       "   'listener': 1}],\n",
       " 'colors': [[0.8388888888888889, 0.5, 0.86],\n",
       "  [0.8083333333333333, 0.5, 0.59],\n",
       "  [0.8361111111111111, 0.5, 0.57]],\n",
       " 'listener_context': [[0.8388888888888889, 0.5, 0.86],\n",
       "  [0.8361111111111111, 0.5, 0.57],\n",
       "  [0.8083333333333333, 0.5, 0.59]],\n",
       " 'speaker_context': [[0.8388888888888889, 0.5, 0.86],\n",
       "  [0.8361111111111111, 0.5, 0.57],\n",
       "  [0.8083333333333333, 0.5, 0.59]]}"
      ]
     },
     "execution_count": 7,
     "metadata": {},
     "output_type": "execute_result"
    }
   ],
   "source": [
    "vars(dev_examples[0])"
   ]
  },
  {
   "cell_type": "code",
   "execution_count": 11,
   "metadata": {},
   "outputs": [
    {
     "name": "stdout",
     "output_type": "stream",
     "text": [
      "Medium pink\n"
     ]
    },
    {
     "data": {
      "image/png": "[encoded data removed]",
      "text/plain": [
       "<Figure size 216x72 with 3 Axes>"
      ]
     },
     "metadata": {
      "needs_background": "light"
     },
     "output_type": "display_data"
    }
   ],
   "source": [
    "dev_examples[0].display(typ='speaker')"
   ]
  },
  {
   "cell_type": "markdown",
   "metadata": {},
   "source": [
    "## Dev dataset\n",
    "\n",
    "The first step is to extract the raw color and raw texts from the corpus:"
   ]
  },
  {
   "cell_type": "code",
   "execution_count": 7,
   "metadata": {},
   "outputs": [],
   "source": [
    "dev_rawcols, dev_texts = zip(*[[ex.colors, ex.contents] for ex in dev_examples])"
   ]
  },
  {
   "cell_type": "markdown",
   "metadata": {},
   "source": [
    "The raw color representations are suitable inputs to a model, but the texts are just strings, so they can't really be processed as-is. Question 1 asks you to do some tokenizing!"
   ]
  },
  {
   "cell_type": "markdown",
   "metadata": {},
   "source": [
    "## Random train–test split for development\n",
    "\n",
    "For the sake of development runs, we create a random train–test split:"
   ]
  },
  {
   "cell_type": "code",
   "execution_count": 8,
   "metadata": {},
   "outputs": [],
   "source": [
    "dev_rawcols_train, dev_rawcols_test, dev_texts_train, dev_texts_test = \\\n",
    "    train_test_split(dev_rawcols, dev_texts)"
   ]
  },
  {
   "cell_type": "markdown",
   "metadata": {},
   "source": [
    "## Question 1: Improve the tokenizer [1 point]\n",
    "\n",
    "This is the first required question – the first required modification to the default pipeline.\n",
    "\n",
    "The function `tokenize_example` simply splits its string on whitespace and adds the required start and end symbols:"
   ]
  },
  {
   "cell_type": "code",
   "execution_count": 57,
   "metadata": {},
   "outputs": [],
   "source": [
    "if 'IS_GRADESCOPE_ENV' not in os.environ:\n",
    "    from nltk.tokenize.casual import TweetTokenizer\n",
    "    from nltk.tokenize.treebank import TreebankWordTokenizer\n",
    "    from transformers import BertModel, BertTokenizer\n",
    "    import vsm\n",
    "    \n",
    "    bert_weights_name = 'bert-base-uncased'\n",
    "    bert_tokenizer = BertTokenizer.from_pretrained(bert_weights_name)\n",
    "    bert_model = BertModel.from_pretrained(bert_weights_name)\n",
    "    \n",
    "    tokenizerTB = TreebankWordTokenizer()\n",
    "    tokenizerTwtr = TweetTokenizer()"
   ]
  },
  {
   "cell_type": "code",
   "execution_count": 11,
   "metadata": {},
   "outputs": [],
   "source": [
    "import os, utils\n",
    "if 'IS_GRADESCOPE_ENV' not in os.environ:\n",
    "    \n",
    "    # Glove\n",
    "    DATA_HOME = 'data'\n",
    "    GLOVE_HOME = os.path.join(DATA_HOME, 'glove.6B')\n",
    "\n",
    "    glove_lookup = utils.glove2dict(\n",
    "        os.path.join(GLOVE_HOME, 'glove.6B.300d.txt'))"
   ]
  },
  {
   "cell_type": "code",
   "execution_count": 12,
   "metadata": {},
   "outputs": [],
   "source": [
    "def vsm_phi(text, lookup, np_func=np.mean):\n",
    "    \"\"\"Represent `text` as a combination of the vector of its words.\n",
    "\n",
    "    Parameters\n",
    "    ----------\n",
    "    text : str\n",
    "\n",
    "    lookup : dict\n",
    "        From words to vectors.\n",
    "\n",
    "    np_func : function (default: np.sum)\n",
    "        A numpy matrix operation that can be applied columnwise,\n",
    "        like `np.mean`, `np.sum`, or `np.prod`. The requirement is that\n",
    "        the function take `axis=0` as one of its arguments (to ensure\n",
    "        columnwise combination) and that it return a vector of a\n",
    "        fixed length, no matter what the size of the text is.\n",
    "\n",
    "    Returns\n",
    "    -------\n",
    "    np.array, dimension `X.shape[1]`\n",
    "\n",
    "    \"\"\"\n",
    "    allvecs = np.array([lookup[w] for w in text.split() if w in lookup])\n",
    "    if len(allvecs) == 0:\n",
    "        dim = len(next(iter(lookup.values())))\n",
    "        feats = np.zeros(dim)\n",
    "    else:\n",
    "        feats = np_func(allvecs, axis=0)\n",
    "    return feats\n",
    "\n",
    "def glove_phi(text, np_func=np.mean):\n",
    "    return vsm_phi(text, glove_lookup, np_func=np_func)"
   ]
  },
  {
   "cell_type": "code",
   "execution_count": 13,
   "metadata": {},
   "outputs": [],
   "source": [
    "# glove_phi(dev_texts_train[376])"
   ]
  },
  {
   "cell_type": "code",
   "execution_count": 58,
   "metadata": {},
   "outputs": [],
   "source": [
    "def tokenize_example_baseline(s):\n",
    "    return [START_SYMBOL] + s.split() + [END_SYMBOL]"
   ]
  },
  {
   "cell_type": "code",
   "execution_count": 15,
   "metadata": {},
   "outputs": [],
   "source": [
    "def tokenize_example(s):\n",
    "\n",
    "    # Improve me!\n",
    "    \n",
    "    # Ideas:  BERT tokens, Twitter tokenizaiton, TreebankWordTokenizer\n",
    "    # GloVe?\n",
    "    # Read paper\n",
    "    ''' Twitter tokenization'''\n",
    "    #twttr_tokens = tokenizerTwtr.tokenize(s)    \n",
    "    ''' TreebankWordTokenizer '''\n",
    "    #tbw_tokens = tokenizerTB.tokenize(s)    \n",
    "    \n",
    "    ''' BERT'''\n",
    "    bert_token = bert_tokenizer.tokenize(s)\n",
    "    \n",
    "#     print('Whitespace: ',[START_SYMBOL] + s.split() + [END_SYMBOL])\n",
    "#     print('Twitter: ',[START_SYMBOL] + twttr_tokens + [END_SYMBOL])\n",
    "#     print('TreebankWordTokenizer: ',[START_SYMBOL] + tbw_tokens + [END_SYMBOL])\n",
    "#     print('BERT: ',[START_SYMBOL] + bert_token + [END_SYMBOL])\n",
    "    \n",
    "    return [START_SYMBOL] + bert_token + [END_SYMBOL]"
   ]
  },
  {
   "cell_type": "code",
   "execution_count": 61,
   "metadata": {},
   "outputs": [],
   "source": [
    "def tokenize_example_twr(s):\n",
    "    twttr_tokens = tokenizerTwtr.tokenize(s)       \n",
    "    return [START_SYMBOL] + twttr_tokens + [END_SYMBOL]"
   ]
  },
  {
   "cell_type": "code",
   "execution_count": 16,
   "metadata": {},
   "outputs": [
    {
     "data": {
      "text/plain": [
       "['<s>', 'aqua', ',', 'tea', '##l', '</s>']"
      ]
     },
     "execution_count": 16,
     "metadata": {},
     "output_type": "execute_result"
    }
   ],
   "source": [
    "tokenize_example(dev_texts_train[376])"
   ]
  },
  {
   "cell_type": "code",
   "execution_count": 17,
   "metadata": {},
   "outputs": [
    {
     "data": {
      "text/plain": [
       "['<s>', 'aqua,', 'teal', '</s>']"
      ]
     },
     "execution_count": 17,
     "metadata": {},
     "output_type": "execute_result"
    }
   ],
   "source": [
    "tokenize_example_baseline(dev_texts_train[376])"
   ]
  },
  {
   "cell_type": "code",
   "execution_count": 62,
   "metadata": {},
   "outputs": [
    {
     "data": {
      "text/plain": [
       "['<s>', 'aqua', ',', 'teal', '</s>']"
      ]
     },
     "execution_count": 62,
     "metadata": {},
     "output_type": "execute_result"
    }
   ],
   "source": [
    "tokenize_example_twr(dev_texts_train[376])"
   ]
  },
  {
   "cell_type": "code",
   "execution_count": 80,
   "metadata": {},
   "outputs": [
    {
     "data": {
      "text/plain": [
       "tensor([[  101, 28319,  1010,  5572,  2140,   102]])"
      ]
     },
     "execution_count": 80,
     "metadata": {},
     "output_type": "execute_result"
    }
   ],
   "source": [
    "text = dev_texts_train[376]\n",
    "vsm.hf_encode(text, bert_tokenizer, add_special_tokens=True)"
   ]
  },
  {
   "cell_type": "markdown",
   "metadata": {},
   "source": [
    "__Your task__: Modify `tokenize_example` so that it does something more sophisticated with the input text. \n",
    "\n",
    "__Notes__:\n",
    "\n",
    "* There are useful ideas for this in [Monroe et al. 2017](https://transacl.org/ojs/index.php/tacl/article/view/1142)\n",
    "* There is no requirement that you do word-level tokenization. Sub-word and multi-word are options.\n",
    "* This question can interact with the size of your vocabulary (see just below), and in turn with decisions about how to use `UNK_SYMBOL`.\n",
    "\n",
    "__Important__: don't forget to add the start and end symbols, else the resulting models will definitely be terrible! The following test will check that your tokenizer has this property:"
   ]
  },
  {
   "cell_type": "code",
   "execution_count": 13,
   "metadata": {},
   "outputs": [],
   "source": [
    "def test_tokenize_example(func):\n",
    "    s = \"A test string\"\n",
    "    result = func(s)\n",
    "    assert all(isinstance(tok, str) for tok in result), \\\n",
    "        \"The tokenizer must return a list of strings.\"\n",
    "    assert result[0] == START_SYMBOL, \\\n",
    "        \"The tokenizer must add START_SYMBOL as the first token.\"\n",
    "    assert result[-1] == END_SYMBOL, \\\n",
    "        \"The tokenizer must add END_SYMBOL as the final token.\""
   ]
  },
  {
   "cell_type": "code",
   "execution_count": 14,
   "metadata": {},
   "outputs": [],
   "source": [
    "if 'IS_GRADESCOPE_ENV' not in os.environ:\n",
    "    test_tokenize_example(tokenize_example)"
   ]
  },
  {
   "cell_type": "markdown",
   "metadata": {},
   "source": [
    "## Use the tokenizer"
   ]
  },
  {
   "cell_type": "markdown",
   "metadata": {},
   "source": [
    "Once the tokenizer is working, run the following cell to tokenize your inputs:"
   ]
  },
  {
   "cell_type": "code",
   "execution_count": 71,
   "metadata": {},
   "outputs": [],
   "source": [
    "dev_seqs_train = [tokenize_example(s) for s in dev_texts_train]\n",
    "\n",
    "dev_seqs_test = [tokenize_example(s) for s in dev_texts_test]"
   ]
  },
  {
   "cell_type": "code",
   "execution_count": 18,
   "metadata": {},
   "outputs": [],
   "source": [
    "dev_seqs_train_base = [tokenize_example_baseline(s) for s in dev_texts_train]\n",
    "dev_seqs_test_base = [tokenize_example_baseline(s) for s in dev_texts_test]"
   ]
  },
  {
   "cell_type": "markdown",
   "metadata": {},
   "source": [
    "We use only the train set to derive a vocabulary for the model:"
   ]
  },
  {
   "cell_type": "code",
   "execution_count": 72,
   "metadata": {},
   "outputs": [],
   "source": [
    "dev_vocab = sorted({w for toks in dev_seqs_train for w in toks})\n",
    "\n",
    "dev_vocab += [UNK_SYMBOL]"
   ]
  },
  {
   "cell_type": "code",
   "execution_count": 19,
   "metadata": {},
   "outputs": [],
   "source": [
    "dev_vocab_base = sorted({w for toks in dev_seqs_train_base for w in toks})\n",
    "\n",
    "dev_vocab_base += [UNK_SYMBOL]"
   ]
  },
  {
   "cell_type": "markdown",
   "metadata": {},
   "source": [
    "It's important that the `UNK_SYMBOL` is included somewhere in this list. In test examples, words not seen in training will be mapped to `UNK_SYMBOL`. \n",
    "\n",
    "Conceptual note: If you model's vocab is the same as your train vocab, then `UNK_SYMBOL` will never be encountered during training, so it will be a random vector at test time."
   ]
  },
  {
   "cell_type": "code",
   "execution_count": 17,
   "metadata": {},
   "outputs": [
    {
     "data": {
      "text/plain": [
       "963"
      ]
     },
     "execution_count": 17,
     "metadata": {},
     "output_type": "execute_result"
    }
   ],
   "source": [
    "len(dev_vocab)"
   ]
  },
  {
   "cell_type": "code",
   "execution_count": 20,
   "metadata": {},
   "outputs": [
    {
     "data": {
      "text/plain": [
       "1439"
      ]
     },
     "execution_count": 20,
     "metadata": {},
     "output_type": "execute_result"
    }
   ],
   "source": [
    "len(dev_vocab_base)"
   ]
  },
  {
   "cell_type": "markdown",
   "metadata": {},
   "source": [
    "## Question 2: Improve the color representations [1 point]\n",
    "\n",
    "This is the second required pipeline improvement for the assignment. \n",
    "\n",
    "The following functions do nothing at all to the raw input colors we get from the corpus. "
   ]
  },
  {
   "cell_type": "code",
   "execution_count": 21,
   "metadata": {},
   "outputs": [],
   "source": [
    "from itertools import product\n",
    "\n",
    "def HSLtoHSV(hsl):\n",
    "    ''' reference: en.wikipedia.org/wiki/HSL_and_HSV#HSL_to_HSV\n",
    "    '''\n",
    "    h, s, l = hsl    \n",
    "    v = l + s*min(l, 1-l)    \n",
    "    s = 0 if v ==0 else 2*(1-(l/v))    \n",
    "    return [h, s, v]"
   ]
  },
  {
   "cell_type": "code",
   "execution_count": 22,
   "metadata": {},
   "outputs": [],
   "source": [
    "def represent_color_context(colors):\n",
    "    # Improve me!\n",
    "    return [represent_color(color) for color in colors]\n",
    "\n",
    "\n",
    "# def represent_color(color):\n",
    "#     ''' color:  HSL format and nomalized '''        \n",
    "#     h, s, v = HSLtoHSV(color)\n",
    "#     real_vector = []\n",
    "#     img_vector = []\n",
    "#     for j, k, l in product((0, 1, 2), repeat=3):\n",
    "#         fourier = np.exp(-1*2j * np.pi *(j*h + k*s + l*v))\n",
    "#         real_vector.append(fourier.real)\n",
    "#         img_vector.append(fourier.imag)\n",
    "#     return real_vector + img_vector\n",
    "#     #return color\n",
    "    \n",
    "def represent_color(color):\n",
    "    ''' color:  HSL format and nomalized '''        \n",
    "    h, s, v = HSLtoHSV(color)\n",
    "    vector = []\n",
    "    img_vector = []\n",
    "    for j, k, l in product((0, 1, 2), repeat=3):\n",
    "        fourier = np.exp(-1*2j * np.pi *(j*h + k*s + l*v))\n",
    "        vector.append(fourier.real)\n",
    "        vector.append(fourier.imag)\n",
    "    return vector    "
   ]
  },
  {
   "cell_type": "code",
   "execution_count": 20,
   "metadata": {},
   "outputs": [],
   "source": [
    "color_ex1 = dev_rawcols_train[0][0]\n",
    "color_verification = [0.19444444444444445, 0.5, 0.11]"
   ]
  },
  {
   "cell_type": "code",
   "execution_count": 70,
   "metadata": {},
   "outputs": [
    {
     "data": {
      "text/plain": [
       "[0.19444444444444445, 0.5, 0.11]"
      ]
     },
     "execution_count": 70,
     "metadata": {},
     "output_type": "execute_result"
    }
   ],
   "source": [
    "color_ex1"
   ]
  },
  {
   "cell_type": "code",
   "execution_count": 81,
   "metadata": {},
   "outputs": [
    {
     "data": {
      "text/plain": [
       "[0.19444444444444445, 0.6666666666666667, 0.165]"
      ]
     },
     "execution_count": 81,
     "metadata": {},
     "output_type": "execute_result"
    }
   ],
   "source": [
    "HSLtoHSV(color_verification)"
   ]
  },
  {
   "cell_type": "code",
   "execution_count": 88,
   "metadata": {},
   "outputs": [
    {
     "data": {
      "text/plain": [
       "[0.19444444444444445, 0.6666666666666667, 0.165]"
      ]
     },
     "execution_count": 88,
     "metadata": {},
     "output_type": "execute_result"
    }
   ],
   "source": [
    "HSLtoHSV([70/360, 50/100, 11/100]) # verifying discussion with Michael Kamfonas, Rafiq Mohammadi, and Akash Singh"
   ]
  },
  {
   "cell_type": "code",
   "execution_count": 108,
   "metadata": {},
   "outputs": [],
   "source": [
    "fourier_color = represent_color_context(dev_rawcols_train[0])"
   ]
  },
  {
   "cell_type": "code",
   "execution_count": 110,
   "metadata": {},
   "outputs": [
    {
     "name": "stdout",
     "output_type": "stream",
     "text": [
      "3 54\n"
     ]
    }
   ],
   "source": [
    "print(len(fourier_color), len(fourier_color[0]))"
   ]
  },
  {
   "cell_type": "markdown",
   "metadata": {},
   "source": [
    "__Your task__: Modify `represent_color_context` and/or `represent_color` to represent colors in a new way.\n",
    "    \n",
    "__Notes__:\n",
    "\n",
    "* You are not required to keep `represent_color`. This might be unnatural if you want to perform an operation on each color trio all at once.\n",
    "* For that matter, if you want to process all of the color contexts in the entire data set all at once, that is fine too, as long as you can also perform the operation at test time with an unknown number of examples being tested.\n",
    "\n",
    "* The Fourier-transform method of [Monroe et al. 2016](https://www.aclweb.org/anthology/D16-1243/) and [Monroe et al. 2017](https://transacl.org/ojs/index.php/tacl/article/view/1142) is a proven choice for our task. __It is not required that you implement this.__ However, if you decide to, you might find that the overly terse presentation in the paper is an obstacle. They key thing to see is that the notation $\\hat{f}_{jkl}$ is meant to specify a full coordinate system. Thus, you might do something like\n",
    "\n",
    "  ```\n",
    "from itertools import product\n",
    "for j, k, l in product((0, 1, 2), repeat=3):    \n",
    "    f_jkl = ...\n",
    "```\n",
    "\n",
    "  and collect these `f_jkl` values in a list of 27 values. Additionally, in Python, [`2j` produces a value with `real` and `imag` attributes](https://docs.python.org/3.7/library/cmath.html). Each element `f_jkl` should have these components. If you concatenate the `real` and `imag` parts of all the `f_jkl`, you will have a 54-dimensional representation, as in the paper. Remember to start with an HSV representation, and with $h$ in $[0, 360]$, $s$ in $[0, 200]$, and $v$ in $[0, 200]$ (or else do the scaling differently). Note that the values in our corpus are in HLS format, [which are easily converted to HSV](https://en.wikipedia.org/wiki/HSL_and_HSV#HSL_to_HSV).\n",
    "  \n",
    "* It's natural to ask why this Fourier transform is useful in the current context. This is a challenging question, and I don't have a complete answer, but here is an intuitive observation: if you consider the raw color representations to be embeddings, then you can see very quickly that our standard geometric notions are totally out of line with our intuitions about the colors themselves. For example, here is a plot where we simply vary the hue dimension while keeping the other dimensions constant:\n",
    "\n",
    "  <img src=\"fig/colors-hue-hls.png\" alt=\"A series of very different colors with cosine distances from orange ranging from 0 to 0.19\" />\n",
    "\n",
    "  I've printed the cosine distances from the leftmost color above each patch. They all look pretty similar. Now, you might say, well at least the distances are sort of proportional to how different the colors are from the first. However, that argument seems to crumble when we do the same experiment but now varying the saturation dimension:\n",
    "\n",
    "  <img src=\"fig/colors-saturation-hls.png\" alt=\"A series of very similar purple-ish colors with cosine distances from gray-purple ranging from 0 to 0.19\" />\n",
    "\n",
    "  These colors are all quite simular intuitively. Notice, though, that the cosine distances are identical to my first plot. Of course! Cosine distances doesn't care about the nature of these dimensions! The underlying color space is a cylinder, not a regular Euclidean 3d space!\n",
    "  \n",
    "  The Fourier transformation that we apply is remapping the colors into approximately the cylindrical space that we want. It is at least capturing some the circular/radial relationships that are inherent in the space. Thus, here are plots corresponding to the above, but now where the colors have been transformed for the cosine comparisons. \n",
    "  \n",
    "  First, the hue variation:\n",
    "  \n",
    "  <img src=\"fig/colors-hue-fourier.png\" alt=\"A series of very different colors with cosine distances from orange that are generally large (near 1.0)\" />\n",
    "\n",
    "  And then saturation:\n",
    "  \n",
    "  <img src=\"fig/colors-saturation-fourier.png\" alt=\"A series of very similar purple-ish colors with cosine distances from gray purple that seem aligned with visual color similarity\" />\n",
    "  \n",
    "  These distances seem much better aligned with intuitions to me, and I think that's quite general. Thus, even if our networks can in principle learn this remapping, it's very helpful to at least start them closer to where we want them to be.\n",
    "  \n",
    "  If you want to go one layer deeper, then the [Zhang and Lu 2002](https://www.sciencedirect.com/science/article/pii/S092359650200084X) paper that Monroe et al. 2016 cite is pretty intuitive. It's for the 2d case, but that actually makes the ideas somewhere more accessible, since they can easily plot the original and remapped feature spaces."
   ]
  },
  {
   "cell_type": "code",
   "execution_count": 23,
   "metadata": {},
   "outputs": [
    {
     "name": "stdout",
     "output_type": "stream",
     "text": [
      "[0, 1.0393446629166314, 0.8333333333333336, 1.007066697868587, 1.0109782933538725]\n"
     ]
    }
   ],
   "source": [
    "a = represent_color((0.9, 0.5, 0.1))\n",
    "b = represent_color((0.9, 0.5, 0.3))\n",
    "c = represent_color((0.9, 0.5, 0.5))\n",
    "d = represent_color((0.9, 0.5, 0.7))\n",
    "e = represent_color((0.9, 0.5, 0.9))\n",
    "\n",
    "print([vsm.cosine(a, a), vsm.cosine(a, b), vsm.cosine(a, c), vsm.cosine(a, d), vsm.cosine(a, e)])"
   ]
  },
  {
   "cell_type": "code",
   "execution_count": 22,
   "metadata": {},
   "outputs": [
    {
     "data": {
      "text/plain": [
       "0.8333333333333336"
      ]
     },
     "execution_count": 22,
     "metadata": {},
     "output_type": "execute_result"
    }
   ],
   "source": [
    "vsm.cosine(a, c)"
   ]
  },
  {
   "cell_type": "code",
   "execution_count": 23,
   "metadata": {},
   "outputs": [
    {
     "data": {
      "text/plain": [
       "1.007066697868587"
      ]
     },
     "execution_count": 23,
     "metadata": {},
     "output_type": "execute_result"
    }
   ],
   "source": [
    "vsm.cosine(a, d)"
   ]
  },
  {
   "cell_type": "code",
   "execution_count": 24,
   "metadata": {},
   "outputs": [
    {
     "data": {
      "text/plain": [
       "1.0109782933538725"
      ]
     },
     "execution_count": 24,
     "metadata": {},
     "output_type": "execute_result"
    }
   ],
   "source": [
    "vsm.cosine(a, e)"
   ]
  },
  {
   "cell_type": "markdown",
   "metadata": {},
   "source": [
    "The following test seeks to ensure only that the output of your `represent_color_context` will be compatible with the models we are creating:"
   ]
  },
  {
   "cell_type": "code",
   "execution_count": 25,
   "metadata": {},
   "outputs": [],
   "source": [
    "def test_represent_color_context(func):\n",
    "    \"\"\"`func` should be `represent_color_context`\"\"\"\n",
    "    example = [\n",
    "        [0.786, 0.58, 0.87],\n",
    "        [0.689, 0.44, 0.92],\n",
    "        [0.628, 0.32, 0.81]]\n",
    "    result = func(example)\n",
    "    assert len(result) == len(example), \\\n",
    "        (\"Color context representations need to represent each color \"\n",
    "         \"separately. (We assume the final color is the target.)\")\n",
    "    for i, color in enumerate(result):\n",
    "        assert all(isinstance(x, float) for x in color), \\\n",
    "            (\"All color representations should be lists of floats. \"\n",
    "             \"Color {} is {}\".format(i, color))"
   ]
  },
  {
   "cell_type": "code",
   "execution_count": 26,
   "metadata": {},
   "outputs": [],
   "source": [
    "if 'IS_GRADESCOPE_ENV' not in os.environ:\n",
    "    test_represent_color_context(represent_color_context)"
   ]
  },
  {
   "cell_type": "markdown",
   "metadata": {},
   "source": [
    "## Use the color representer"
   ]
  },
  {
   "cell_type": "markdown",
   "metadata": {},
   "source": [
    "The following cell just runs your `represent_color_context` on the train and test sets:"
   ]
  },
  {
   "cell_type": "code",
   "execution_count": 24,
   "metadata": {},
   "outputs": [],
   "source": [
    "dev_cols_train = [represent_color_context(colors) for colors in dev_rawcols_train]\n",
    "\n",
    "dev_cols_test = [represent_color_context(colors) for colors in dev_rawcols_test]"
   ]
  },
  {
   "cell_type": "markdown",
   "metadata": {},
   "source": [
    "Exploring results:"
   ]
  },
  {
   "cell_type": "code",
   "execution_count": 29,
   "metadata": {},
   "outputs": [
    {
     "name": "stdout",
     "output_type": "stream",
     "text": [
      "10417 3 54\n"
     ]
    }
   ],
   "source": [
    "print(len(dev_cols_train), len(dev_cols_train[0]),len(dev_cols_train[0][0] ))"
   ]
  },
  {
   "cell_type": "code",
   "execution_count": 35,
   "metadata": {},
   "outputs": [
    {
     "name": "stdout",
     "output_type": "stream",
     "text": [
      "10417 4\n"
     ]
    }
   ],
   "source": [
    "print(len(dev_seqs_train_base), len(dev_seqs_train_base[0]))"
   ]
  },
  {
   "cell_type": "code",
   "execution_count": 36,
   "metadata": {},
   "outputs": [
    {
     "data": {
      "text/plain": [
       "[['<s>', 'lime', 'green', '</s>'],\n",
       " ['<s>', 'lime', 'green', '</s>'],\n",
       " ['<s>', 'drab', 'purple', '</s>'],\n",
       " ['<s>', 'YELLLOW', 'green', '</s>'],\n",
       " ['<s>', 'pretty', 'in', '</s>']]"
      ]
     },
     "execution_count": 36,
     "metadata": {},
     "output_type": "execute_result"
    }
   ],
   "source": [
    "dev_seqs_train_base[:5]"
   ]
  },
  {
   "cell_type": "code",
   "execution_count": 39,
   "metadata": {},
   "outputs": [
    {
     "data": {
      "text/plain": [
       "['###', \"'light\", '(Nice!)', '(blue)', '(bright']"
      ]
     },
     "execution_count": 39,
     "metadata": {},
     "output_type": "execute_result"
    }
   ],
   "source": [
    "dev_vocab_base[:5]"
   ]
  },
  {
   "cell_type": "markdown",
   "metadata": {},
   "source": [
    "At this point, our preprocessing steps are complete, and we can fit a first model."
   ]
  },
  {
   "cell_type": "markdown",
   "metadata": {},
   "source": [
    "## Initial model\n",
    "\n",
    "The first model is configured right now to be a small model run for just a few iterations. It should be enough to get traction, but it's unlikely to be a great model. You are free to modify this configuration if you wish; it is here just for demonstration and testing:"
   ]
  },
  {
   "cell_type": "code",
   "execution_count": 64,
   "metadata": {},
   "outputs": [],
   "source": [
    "dev_mod = ContextualColorDescriber(\n",
    "    dev_vocab,\n",
    "    early_stopping=True)"
   ]
  },
  {
   "cell_type": "code",
   "execution_count": 65,
   "metadata": {},
   "outputs": [
    {
     "name": "stderr",
     "output_type": "stream",
     "text": [
      "Stopping after epoch 98. Validation score did not improve by tol=1e-05 for more than 10 epochs. Final error is 38.96868586540222"
     ]
    },
    {
     "name": "stdout",
     "output_type": "stream",
     "text": [
      "CPU times: user 42min 48s, sys: 1min 33s, total: 44min 21s\n",
      "Wall time: 11min 55s\n"
     ]
    }
   ],
   "source": [
    "if 'IS_GRADESCOPE_ENV' not in os.environ:\n",
    "    %time _ = dev_mod.fit(dev_cols_train, dev_seqs_train)\n",
    "else:\n",
    "    dev_mod.fit(dev_cols_train, dev_seqs_train)"
   ]
  },
  {
   "cell_type": "markdown",
   "metadata": {},
   "source": [
    "The canonical bake-off evaluation function is `evaluate`. Our primary metric is `listener_accuracy`; the BLEU score is included as a check to ensure that your system is speaking English!"
   ]
  },
  {
   "cell_type": "code",
   "execution_count": 66,
   "metadata": {},
   "outputs": [],
   "source": [
    "evaluation = dev_mod.evaluate(dev_cols_test, dev_seqs_test)"
   ]
  },
  {
   "cell_type": "code",
   "execution_count": 67,
   "metadata": {},
   "outputs": [
    {
     "data": {
      "text/plain": [
       "dict_keys(['listener_accuracy', 'corpus_bleu', 'target_index', 'predicted_index', 'predicted_utterance'])"
      ]
     },
     "execution_count": 67,
     "metadata": {},
     "output_type": "execute_result"
    }
   ],
   "source": [
    "evaluation.keys()"
   ]
  },
  {
   "cell_type": "code",
   "execution_count": 68,
   "metadata": {},
   "outputs": [
    {
     "data": {
      "text/plain": [
       "0.7921105672329398"
      ]
     },
     "execution_count": 68,
     "metadata": {},
     "output_type": "execute_result"
    }
   ],
   "source": [
    "evaluation['listener_accuracy']"
   ]
  },
  {
   "cell_type": "code",
   "execution_count": 69,
   "metadata": {},
   "outputs": [
    {
     "data": {
      "text/plain": [
       "0.7921105672329398"
      ]
     },
     "execution_count": 69,
     "metadata": {},
     "output_type": "execute_result"
    }
   ],
   "source": [
    "dev_mod.listener_accuracy(dev_cols_test, dev_seqs_test)"
   ]
  },
  {
   "cell_type": "code",
   "execution_count": 70,
   "metadata": {},
   "outputs": [
    {
     "data": {
      "text/plain": [
       "0.6319393719620887"
      ]
     },
     "execution_count": 70,
     "metadata": {},
     "output_type": "execute_result"
    }
   ],
   "source": [
    "evaluation['corpus_bleu']"
   ]
  },
  {
   "cell_type": "code",
   "execution_count": 71,
   "metadata": {},
   "outputs": [
    {
     "data": {
      "text/plain": [
       "0.6319393719620887"
      ]
     },
     "execution_count": 71,
     "metadata": {},
     "output_type": "execute_result"
    }
   ],
   "source": [
    "bleu, predicted_utterances = dev_mod.corpus_bleu(dev_cols_test, dev_seqs_test)\n",
    "\n",
    "bleu"
   ]
  },
  {
   "cell_type": "code",
   "execution_count": 122,
   "metadata": {},
   "outputs": [
    {
     "data": {
      "text/plain": [
       "[2, 2, 2, 2, 2]"
      ]
     },
     "execution_count": 122,
     "metadata": {},
     "output_type": "execute_result"
    }
   ],
   "source": [
    "evaluation['target_index'][: 5]"
   ]
  },
  {
   "cell_type": "code",
   "execution_count": 123,
   "metadata": {},
   "outputs": [
    {
     "data": {
      "text/plain": [
       "[2, 0, 2, 0, 2]"
      ]
     },
     "execution_count": 123,
     "metadata": {},
     "output_type": "execute_result"
    }
   ],
   "source": [
    "evaluation['predicted_index'][: 5]"
   ]
  },
  {
   "cell_type": "code",
   "execution_count": 124,
   "metadata": {},
   "outputs": [
    {
     "data": {
      "text/plain": [
       "[['<s>', 'bright', 'purple', '</s>'],\n",
       " ['<s>', 'yellow', 'green', '</s>'],\n",
       " ['<s>', 'dull', 'purple', '</s>'],\n",
       " ['<s>', 'hot', 'pink', '</s>'],\n",
       " ['<s>', 'bright', 'green', '</s>']]"
      ]
     },
     "execution_count": 124,
     "metadata": {},
     "output_type": "execute_result"
    }
   ],
   "source": [
    "evaluation['predicted_utterance'][: 5]"
   ]
  },
  {
   "cell_type": "markdown",
   "metadata": {},
   "source": [
    "We can also see the model's predicted sequences given color context inputs:"
   ]
  },
  {
   "cell_type": "code",
   "execution_count": 125,
   "metadata": {},
   "outputs": [
    {
     "data": {
      "text/plain": [
       "[['<s>', 'bright', 'purple', '</s>']]"
      ]
     },
     "execution_count": 125,
     "metadata": {},
     "output_type": "execute_result"
    }
   ],
   "source": [
    "dev_mod.predict(dev_cols_test[: 1])"
   ]
  },
  {
   "cell_type": "code",
   "execution_count": 126,
   "metadata": {},
   "outputs": [
    {
     "data": {
      "text/plain": [
       "[['<s>', 'right', 'side', '#', '#', '#', 'purple', 'pink', '##ish', '</s>']]"
      ]
     },
     "execution_count": 126,
     "metadata": {},
     "output_type": "execute_result"
    }
   ],
   "source": [
    "dev_seqs_test[: 1]"
   ]
  },
  {
   "cell_type": "markdown",
   "metadata": {},
   "source": [
    "## Question 3: GloVe embeddings [1 point]\n",
    "\n",
    "The above model uses a random initial embedding, as configured by the decoder used by `ContextualColorDescriber`. This homework question asks you to consider using GloVe inputs. \n",
    "\n",
    "__Your task__: Complete `create_glove_embedding` so that it creates a GloVe embedding based on your model vocabulary. This isn't mean to be analytically challenging, but rather just to create a basis for you to try out other kinds of rich initialization."
   ]
  },
  {
   "cell_type": "code",
   "execution_count": 51,
   "metadata": {},
   "outputs": [],
   "source": [
    "GLOVE_HOME = os.path.join('data', 'glove.6B')"
   ]
  },
  {
   "cell_type": "code",
   "execution_count": 69,
   "metadata": {},
   "outputs": [],
   "source": [
    "def create_glove_embedding(vocab, glove_base_filename='glove.6B.50d.txt'):\n",
    "    pass\n",
    "    # Use `utils.glove2dict` to read in the GloVe file:\n",
    "\n",
    "    ##### YOUR CODE HERE\n",
    "    glove_lookup = utils.glove2dict(\n",
    "        os.path.join(GLOVE_HOME, glove_base_filename))\n",
    "\n",
    "    # Use `utils.create_pretrained_embedding` to create the embedding.\n",
    "    # This function will, by default, ensure that START_TOKEN,\n",
    "    # END_TOKEN, and UNK_TOKEN are included in the embedding.\n",
    "\n",
    "    ##### YOUR CODE HERE\n",
    "    embedding, vocab2 = utils.create_pretrained_embedding(glove_lookup, vocab)\n",
    "\n",
    "    # Be sure to return the embedding you create as well as the\n",
    "    # vocabulary returned by `utils.create_pretrained_embedding`,\n",
    "    # which is likely to have been modified from the input `vocab`.\n",
    "\n",
    "    ##### YOUR CODE HERE\n",
    "    return embedding, vocab2 \n"
   ]
  },
  {
   "cell_type": "code",
   "execution_count": 53,
   "metadata": {},
   "outputs": [],
   "source": [
    "def test_create_glove_embedding(func):\n",
    "    vocab = ['NLU', 'is', 'the', 'future', '.', '$UNK', '<s>', '</s>']\n",
    "    glove_embedding, glove_vocab = func(vocab, 'glove.6B.50d.txt')\n",
    "    assert isinstance(glove_embedding, np.ndarray), \\\n",
    "        \"Expected embedding type {}; got {}\".format(\n",
    "        glove_embedding.__class__.__name__, glove_embedding.__class__.__name__)\n",
    "    assert glove_embedding.shape == (8, 50), \\\n",
    "        \"Expected embedding shape (8, 50); got {}\".format(glove_embedding.shape)\n",
    "    assert glove_vocab == vocab, \\\n",
    "        \"Expected vocab {}; got {}\".format(vocab, glove_vocab)"
   ]
  },
  {
   "cell_type": "code",
   "execution_count": 54,
   "metadata": {},
   "outputs": [],
   "source": [
    "if 'IS_GRADESCOPE_ENV' not in os.environ:\n",
    "    test_create_glove_embedding(create_glove_embedding)"
   ]
  },
  {
   "cell_type": "markdown",
   "metadata": {},
   "source": [
    "## Try the GloVe representations"
   ]
  },
  {
   "cell_type": "markdown",
   "metadata": {},
   "source": [
    "The extent to which GloVe is useful will depend heavily on how aligned your tokenization scheme is with the GloVe vocabulary. For example, if you did character-level tokenization, then the GloVe embedding space is not well-aligned with your tokenizer and using GloVe should have little no positive effect."
   ]
  },
  {
   "cell_type": "markdown",
   "metadata": {},
   "source": [
    "Let's see if GloVe helped for our development data:"
   ]
  },
  {
   "cell_type": "code",
   "execution_count": 73,
   "metadata": {},
   "outputs": [],
   "source": [
    "dev_glove_embedding, dev_glove_vocab = create_glove_embedding(dev_vocab)"
   ]
  },
  {
   "cell_type": "code",
   "execution_count": 74,
   "metadata": {},
   "outputs": [
    {
     "name": "stdout",
     "output_type": "stream",
     "text": [
      "(963, 50)\n"
     ]
    },
    {
     "data": {
      "text/plain": [
       "array([-0.58402 ,  0.39031 ,  0.65282 , -0.3403  ,  0.19493 , -0.83489 ,\n",
       "        0.11929 , -0.57291 , -0.56844 ,  0.72989 , -0.56975 ,  0.53436 ,\n",
       "       -0.38034 ,  0.22471 ,  0.98031 , -0.2966  ,  0.126   ,  0.55222 ,\n",
       "       -0.62737 , -0.082242, -0.085359,  0.31515 ,  0.96077 ,  0.31986 ,\n",
       "        0.87878 , -1.5189  , -1.7831  ,  0.35639 ,  0.9674  , -1.5497  ,\n",
       "        2.335   ,  0.8494  , -1.2371  ,  1.0623  , -1.4267  , -0.49056 ,\n",
       "        0.85465 , -1.2878  ,  0.60204 , -0.35963 ,  0.28586 , -0.052162,\n",
       "       -0.50818 , -0.63459 ,  0.33889 ,  0.28416 , -0.2034  , -1.2338  ,\n",
       "        0.46715 ,  0.78858 ])"
      ]
     },
     "execution_count": 74,
     "metadata": {},
     "output_type": "execute_result"
    }
   ],
   "source": [
    "print(dev_glove_embedding.shape)\n",
    "dev_glove_embedding[0]"
   ]
  },
  {
   "cell_type": "code",
   "execution_count": 76,
   "metadata": {},
   "outputs": [
    {
     "data": {
      "text/plain": [
       "963"
      ]
     },
     "execution_count": 76,
     "metadata": {},
     "output_type": "execute_result"
    }
   ],
   "source": [
    "len(dev_glove_vocab)"
   ]
  },
  {
   "cell_type": "code",
   "execution_count": 81,
   "metadata": {},
   "outputs": [
    {
     "name": "stdout",
     "output_type": "stream",
     "text": [
      "963\n"
     ]
    },
    {
     "data": {
      "text/plain": [
       "'##ih'"
      ]
     },
     "execution_count": 81,
     "metadata": {},
     "output_type": "execute_result"
    }
   ],
   "source": [
    "print(len(dev_vocab))\n",
    "dev_vocab[100]"
   ]
  },
  {
   "cell_type": "code",
   "execution_count": 141,
   "metadata": {},
   "outputs": [
    {
     "name": "stdout",
     "output_type": "stream",
     "text": [
      "963\n"
     ]
    },
    {
     "data": {
      "text/plain": [
       "'##ih'"
      ]
     },
     "execution_count": 141,
     "metadata": {},
     "output_type": "execute_result"
    }
   ],
   "source": [
    "print(len(dev_glove_vocab))\n",
    "dev_glove_vocab[100]\n"
   ]
  },
  {
   "cell_type": "code",
   "execution_count": 82,
   "metadata": {},
   "outputs": [],
   "source": [
    "dev_mod_glove = ContextualColorDescriber(\n",
    "    dev_glove_vocab,\n",
    "    embedding=dev_glove_embedding,\n",
    "    early_stopping=True)"
   ]
  },
  {
   "cell_type": "code",
   "execution_count": 83,
   "metadata": {},
   "outputs": [
    {
     "name": "stderr",
     "output_type": "stream",
     "text": [
      "/home/vicaran93/repos/AI-certificate-stanford/CS224/cs224u/torch_color_describer.py:680: RuntimeWarning: divide by zero encountered in power\n",
      "  perp = [np.prod(s)**(-1/len(s)) for s in scores]\n",
      "Finished epoch 1 of 1000; error is 67.78663444519043/home/vicaran93/repos/AI-certificate-stanford/CS224/cs224u/torch_color_describer.py:680: RuntimeWarning: divide by zero encountered in power\n",
      "  perp = [np.prod(s)**(-1/len(s)) for s in scores]\n",
      "Stopping after epoch 145. Validation score did not improve by tol=1e-05 for more than 10 epochs. Final error is 32.31510829925537"
     ]
    },
    {
     "name": "stdout",
     "output_type": "stream",
     "text": [
      "CPU times: user 1h 1min 58s, sys: 1min 26s, total: 1h 3min 24s\n",
      "Wall time: 17min 3s\n"
     ]
    }
   ],
   "source": [
    "%time _ = dev_mod_glove.fit(dev_cols_train, dev_seqs_train)"
   ]
  },
  {
   "cell_type": "code",
   "execution_count": 84,
   "metadata": {},
   "outputs": [
    {
     "data": {
      "text/plain": [
       "0.8036279873308378"
      ]
     },
     "execution_count": 84,
     "metadata": {},
     "output_type": "execute_result"
    }
   ],
   "source": [
    "dev_mod_glove.listener_accuracy(dev_cols_test, dev_seqs_test)"
   ]
  },
  {
   "cell_type": "markdown",
   "metadata": {},
   "source": [
    "You probably saw a small boost, assuming your tokeization scheme leads to good overlap with the GloVe vocabulary. The input representations are larger than in our previous model (at least as I configured things), so we would need to do more runs with higher `max_iter` values to see whether this is worthwhile overall."
   ]
  },
  {
   "cell_type": "markdown",
   "metadata": {},
   "source": [
    "## Question 4: Color context [3 points]\n",
    "\n",
    "The final required homework question is the most challenging, but it should set you up to think in much more flexible ways about the underlying model we're using.\n",
    "\n",
    "The question asks you to modify various model components in `torch_color_describer.py`. The section called [Modifying the core model](colors_overview.ipynb#Modifying-the-core-model) from the core unit notebook provides a number of examples illustrating the basic techniques, so you might review that material if you get stuck here.\n",
    "\n",
    "__Your task__: Building on ideas from [Monroe et al. 2017](https://transacl.org/ojs/index.php/tacl/article/view/1142), you will redesign the model so that the target color (the final one in the context) is appended to each input token that gets processed by the decoder. The question asks you to subclass the `Decoder` and `EncoderDecoder` from `torch_color_describer.py` so that you can build models that do this."
   ]
  },
  {
   "cell_type": "markdown",
   "metadata": {},
   "source": [
    "__Step 1__: Modify the `Decoder` so that the input vector to the model at each timestep is not just a token representation `x` but the concatenation of `x` with the representation of the target color.\n",
    "\n",
    "__Notes__:\n",
    "\n",
    "* You might notice at this point that the original `Decoder.forward` method has an optional keyword argument `target_colors` that is passed to `Decoder.get_embeddings`. Because this is already in place, all you have to do is modify the `get_embeddings` method to use this argument.\n",
    "\n",
    "* The change affects the configuration of `self.rnn`, so you need to subclass the `__init__` method as well, so that its `input_size` argument accomodates the embedding as well as the color representations.\n",
    "\n",
    "* You can do the relevant operations efficiently in pure PyTorch using `repeat_interleave` and `cat`, but the important thing is to get a working implementation – you can always optimize the code later if the ideas prove useful to you. \n",
    "\n",
    "Here's skeleton code for you to flesh out:"
   ]
  },
  {
   "cell_type": "code",
   "execution_count": 149,
   "metadata": {},
   "outputs": [],
   "source": [
    "from torch_color_describer import Decoder\n",
    "import torch\n",
    "import torch.nn as nn\n",
    "\n",
    "\n",
    "class ColorContextDecoder(Decoder):\n",
    "    def __init__(self, color_dim, *args, **kwargs):\n",
    "        self.color_dim = color_dim\n",
    "        super().__init__(*args, **kwargs)\n",
    "\n",
    "        # Fix the `self.rnn` attribute:\n",
    "        ##### YOUR CODE HERE\n",
    "        self.rnn = nn.GRU(\n",
    "            input_size=self.embed_dim + color_dim,            \n",
    "            hidden_size=self.hidden_dim,\n",
    "            batch_first=True)\n",
    "\n",
    "\n",
    "    def get_embeddings(self, word_seqs, target_colors=None):\n",
    "        \"\"\"\n",
    "        You can assume that `target_colors` is a tensor of shape\n",
    "        (m, n), where m is the length of the batch (same as\n",
    "        `word_seqs.shape[0]`) and n is the dimensionality of the\n",
    "        color representations the model is using. The goal is\n",
    "        to attached each color vector i to each of the tokens in\n",
    "        the ith sequence of (the embedded version of) `word_seqs`.\n",
    "\n",
    "        \"\"\"\n",
    "        ##### YOUR CODE HERE\n",
    "        # concat embeddings with target colors:\n",
    "        if target_colors != None:\n",
    "            pass\n",
    "            ''' Testing:\n",
    "            print(\"self.embedding(word_seqs) size:\\n\", self.embedding(word_seqs).size())\n",
    "            print(\"self.embedding(word_seqs)\\n\", self.embedding(word_seqs))\n",
    "            print(\"rows in embedding:\\n\", self.embedding(word_seqs).shape[1])\n",
    "            \n",
    "            print(\"target_colors size:\\n\", target_colors.size())\n",
    "            print(\"target_colors:\\n\", target_colors) \n",
    "            '''\n",
    "            \n",
    "            n_seq = len(word_seqs)\n",
    "            n_embeddings_per_seq = word_seqs.shape[1]\n",
    "            target_cols = target_colors.shape[1]      \n",
    "            #print(word_seqs)\n",
    "            #print(\"word_seqs Shape: \",word_seqs.shape )\n",
    "            #print(target_colors[:2])\n",
    "            #print(\"target_colors Shape: \",target_colors.shape )\n",
    "            embedding = self.embedding(word_seqs)\n",
    "            #print(embedding[:3])\n",
    "            #print(\"embedding Shape: \",embedding.shape )\n",
    "            \n",
    "            #print(\"reshape: \", n_seq, n_embeddings_per_seq, target_cols )\n",
    "            \n",
    "            # Repeat and Reshape\n",
    "            x = torch.repeat_interleave(target_colors, n_embeddings_per_seq, dim=0)\n",
    "            \n",
    "            #print(\"repeated target_colors Shape: \",x.shape )\n",
    "            \n",
    "        \n",
    "            x_reshaped = torch.reshape(x, (n_seq, n_embeddings_per_seq, target_cols))\n",
    "        \n",
    "            #print(\"embedding size vs target 3 size:\", self.embedding(word_seqs).size(), x_reshaped.size() )\n",
    "            #print(torch.cat((self.embedding(word_seqs), x_reshaped), 2))\n",
    "            return torch.cat((self.embedding(word_seqs), x_reshaped), 2)\n",
    "        \n",
    "        else:                     \n",
    "            return self.embedding(word_seqs)\n",
    "\n"
   ]
  },
  {
   "cell_type": "markdown",
   "metadata": {},
   "source": [
    "Step 1 is the most demanding of the steps in terms of tensor wrangling. It's important to have a clear idea of what you are trying to achieve and to unit test `get_embeddings` so that you can check that it has realized your vision. The following test should help with that:"
   ]
  },
  {
   "cell_type": "code",
   "execution_count": 55,
   "metadata": {},
   "outputs": [],
   "source": [
    "def test_get_embeddings(decoder_class):\n",
    "    \"\"\"\n",
    "    It's assumed that the input to this will be `ColorContextDecoder`.\n",
    "    You pass in the class, and the function initalizes it with the test\n",
    "    parameters.\n",
    "    \"\"\"\n",
    "    dec = decoder_class(\n",
    "        color_dim=3,   # For these, we mainly want *different*\n",
    "        vocab_size=10, # dimensions so that we reliably get\n",
    "        embed_dim=4,   # dimensionality errors if something\n",
    "        hidden_dim=5)  # isn't working.\n",
    "\n",
    "    # This step just changes the embedding to one with values\n",
    "    # that are easy to inspect and definitely will not change\n",
    "    # between runs:\n",
    "    dec.embedding = nn.Embedding.from_pretrained(\n",
    "        torch.FloatTensor([\n",
    "            [10, 11, 12, 13],\n",
    "            [14, 15, 16, 17],\n",
    "            [18, 19, 20, 21]]))\n",
    "\n",
    "    # These are the incoming sequences -- lists of indices\n",
    "    # into the rows of `dec.embedding`:\n",
    "    word_seqs = torch.tensor([\n",
    "        [0,1,2],\n",
    "        [2,0,1]])\n",
    "\n",
    "    # Target colors as small floats that will be easy to track:\n",
    "    target_colors = torch.tensor([\n",
    "        [0.1, 0.2, 0.3],\n",
    "        [0.7, 0.8, 0.9]])\n",
    "\n",
    "    # The desired return value: one list of tensors for each of\n",
    "    # the two sequences in `word_seqs`. Each index is replaced\n",
    "    # with its vector from `dec.embedding` and has the\n",
    "    # corrresponding color from `target_colors` appended to it.\n",
    "    expected = torch.tensor([\n",
    "        [[10., 11., 12., 13.,  0.1,  0.2,  0.3],\n",
    "         [14., 15., 16., 17.,  0.1,  0.2,  0.3],\n",
    "         [18., 19., 20., 21.,  0.1,  0.2,  0.3]],\n",
    "\n",
    "        [[18., 19., 20., 21.,  0.7,  0.8,  0.9],\n",
    "         [10., 11., 12., 13.,  0.7,  0.8,  0.9],\n",
    "         [14., 15., 16., 17.,  0.7,  0.8,  0.9]]])\n",
    "\n",
    "    result = dec.get_embeddings(word_seqs, target_colors=target_colors)\n",
    "\n",
    "    assert expected.shape == result.shape, \\\n",
    "        \"Expected shape {}; got shape {}\".format(expected.shape, result.shape)\n",
    "\n",
    "    assert torch.all(expected.eq(result)), \\\n",
    "        (\"Your result has the desired shape but the values aren't correct. \"\n",
    "         \"Here's what your function creates; compare it with `expected` \"\n",
    "         \"from the test:\\n{}\".format(result))"
   ]
  },
  {
   "cell_type": "code",
   "execution_count": 56,
   "metadata": {},
   "outputs": [],
   "source": [
    "if 'IS_GRADESCOPE_ENV' not in os.environ:\n",
    "    test_get_embeddings(ColorContextDecoder)"
   ]
  },
  {
   "cell_type": "markdown",
   "metadata": {},
   "source": [
    "__Step 2__: Modify the `EncoderDecoder`. For this, you just need to make a small change to the `forward` method: extract the target colors from `color_seqs` and feed them to the decoder."
   ]
  },
  {
   "cell_type": "code",
   "execution_count": 158,
   "metadata": {},
   "outputs": [],
   "source": [
    "from torch_color_describer import EncoderDecoder\n",
    "\n",
    "class ColorizedEncoderDecoder(EncoderDecoder):\n",
    "\n",
    "    def forward(self,\n",
    "            color_seqs,\n",
    "            word_seqs,\n",
    "            seq_lengths=None,\n",
    "            hidden=None,\n",
    "            targets=None):\n",
    "        if hidden is None:\n",
    "            hidden = self.encoder(color_seqs)\n",
    "\n",
    "        # Extract the target colors from `color_seqs` and\n",
    "        # feed them to the decoder, which already has a\n",
    "        # `target_colors` keyword.\n",
    "\n",
    "        ##### YOUR CODE HERE\n",
    "        # Extract the target colors from color_seqs:                \n",
    "        \n",
    "        # list of tensors\n",
    "        #targets = [seq[-1] for seq in color_seqs]    \n",
    "        \n",
    "        # slicing existing tensor\n",
    "        x,y,z = color_seqs.shape        \n",
    "        targets = color_seqs[:,y-1:y,:]\n",
    "        #print('targets2new: \\n',targets[:3])\n",
    "        #targets = color_seqs[:,2:3,:]\n",
    "        #print('targets2old: \\n',targets[:3])\n",
    "        \n",
    "        targets = torch.reshape(targets, (targets.shape[0], targets.shape[-1]))\n",
    "        #print('targets3: \\n',targets[:3])\n",
    "        \n",
    "        \n",
    "        # this will call the forward decoder method which will call the get_embeddings from ColorContextDecoder\n",
    "        output, hidden = self.decoder(word_seqs, seq_lengths=seq_lengths, hidden=hidden, target_colors=targets)\n",
    "        \n",
    "\n",
    "        # Your decoder will return `output, hidden` pairs; the\n",
    "        # following will handle the two return situations that\n",
    "        # the code needs to consider -- training and prediction.\n",
    "        if self.training:\n",
    "            return output\n",
    "        else:\n",
    "            return output, hidden"
   ]
  },
  {
   "cell_type": "markdown",
   "metadata": {},
   "source": [
    "__Step 3__: Finally, as in the examples in [Modifying the core model](colors_overview.ipynb#Modifying-the-core-model), you need to modify the `build_graph` method of `ContextualColorDescriber` so that it uses your new `ColorContextDecoder` and `ColorizedEncoderDecoder`. Here's starter code:"
   ]
  },
  {
   "cell_type": "code",
   "execution_count": 151,
   "metadata": {},
   "outputs": [],
   "source": [
    "from torch_color_describer import Encoder\n",
    "\n",
    "class ColorizedInputDescriber(ContextualColorDescriber):\n",
    "\n",
    "    def build_graph(self):\n",
    "\n",
    "        # We didn't modify the encoder, so this is\n",
    "        # just copied over from the original:\n",
    "        encoder = Encoder(\n",
    "            color_dim=self.color_dim,\n",
    "            hidden_dim=self.hidden_dim)\n",
    "\n",
    "        # Use your `ColorContextDecoder`, making sure\n",
    "        # to pass in all the keyword arguments coming\n",
    "        # from `ColorizedInputDescriber`:\n",
    "\n",
    "        ##### YOUR CODE HERE\n",
    "        decoder = ColorContextDecoder(self.color_dim,\\\n",
    "                                        vocab_size=self.vocab_size,\n",
    "                                        embed_dim=self.embed_dim,\n",
    "                                        embedding=self.embedding,\n",
    "                                        hidden_dim=self.hidden_dim)\n",
    "\n",
    "\n",
    "        # Return a `ColorizedEncoderDecoder` that uses\n",
    "        # your encoder and decoder:\n",
    "\n",
    "        ##### YOUR CODE HERE\n",
    "        \n",
    "        return ColorizedEncoderDecoder(encoder, decoder)\n"
   ]
  },
  {
   "cell_type": "markdown",
   "metadata": {},
   "source": [
    "That's it! Since these modifications are pretty intricate, you might want to use [a toy dataset](colors_overview.ipynb#Toy-problems-for-development-work) to debug it:"
   ]
  },
  {
   "cell_type": "code",
   "execution_count": 147,
   "metadata": {},
   "outputs": [],
   "source": [
    "def test_full_system(describer_class):\n",
    "    toy_color_seqs, toy_word_seqs, toy_vocab = create_example_dataset(\n",
    "        group_size=50, vec_dim=2)\n",
    "\n",
    "    toy_color_seqs_train, toy_color_seqs_test, toy_word_seqs_train, toy_word_seqs_test = \\\n",
    "        train_test_split(toy_color_seqs, toy_word_seqs)\n",
    "\n",
    "    toy_mod = describer_class(toy_vocab)\n",
    "\n",
    "    _ = toy_mod.fit(toy_color_seqs_train, toy_word_seqs_train)\n",
    "\n",
    "    acc = toy_mod.listener_accuracy(toy_color_seqs_test, toy_word_seqs_test)\n",
    "\n",
    "    return acc"
   ]
  },
  {
   "cell_type": "code",
   "execution_count": 159,
   "metadata": {},
   "outputs": [
    {
     "name": "stderr",
     "output_type": "stream",
     "text": [
      "Finished epoch 1000 of 1000; error is 0.11665120720863342"
     ]
    },
    {
     "data": {
      "text/plain": [
       "1.0"
      ]
     },
     "execution_count": 159,
     "metadata": {},
     "output_type": "execute_result"
    }
   ],
   "source": [
    "test_full_system(ColorizedInputDescriber)"
   ]
  },
  {
   "cell_type": "markdown",
   "metadata": {},
   "source": [
    "If that worked, then you can now try this model on SCC problems!"
   ]
  },
  {
   "cell_type": "markdown",
   "metadata": {},
   "source": [
    "## Your original system [3 points]"
   ]
  },
  {
   "cell_type": "markdown",
   "metadata": {},
   "source": [
    "There are many options for your original system, which consists of the full pipeline – all preprocessing and modeling steps. You are free to use any model you like, as long as you subclass `ContextualColorDescriber` in a way that allows its `evaluate` method to behave in the expected way.\n",
    "\n",
    "So that we can evaluate models in a uniform way for the bake-off, we ask that you modify the function `evaluate_original_system` below so that it accepts a trained instance of your model and does any preprocessing steps required by your model.\n",
    "\n",
    "If we seek to reproduce your results, we will rerun this entire notebook. Thus, it is fine if your `evaluate_original_system` makes use of functions you wrote or modified above this cell."
   ]
  },
  {
   "cell_type": "code",
   "execution_count": 111,
   "metadata": {},
   "outputs": [],
   "source": [
    "def evaluate_original_system(trained_model, color_seqs_test, texts_test, tokenization = \"default\", fourier = True):\n",
    "    \"\"\"\n",
    "    Feel free to modify this code to accommodate the needs of\n",
    "    your system. Just keep in mind that it will get raw corpus\n",
    "    examples as inputs for the bake-off.\n",
    "\n",
    "    \"\"\"\n",
    "    # `word_seqs_test` is a list of strings, so tokenize each of\n",
    "    # its elements:\n",
    "    # TODO: get tokenization func as param if endup creating many\n",
    "    if tokenization == 'default':\n",
    "        tok_seqs = [tokenize_example(s) for s in texts_test]\n",
    "    elif tokenization == 'whitespace':\n",
    "        tok_seqs = [tokenize_example_baseline(s) for s in texts_test]        \n",
    "    elif tokenization == 'twitter':\n",
    "        tok_seqs = [tokenize_example_twr(s) for s in texts_test] \n",
    "    elif tokenization == 'tokenize_bert_ex4':\n",
    "        tok_seqs = [tokenize_bert_ex4(s) for s in texts_test] \n",
    "    else:\n",
    "        raise \"Unexpected tokenization method\"\n",
    "        \n",
    "\n",
    "    if fourier:\n",
    "        col_seqs = [represent_color_context(colors)\n",
    "                    for colors in color_seqs_test]\n",
    "    else:\n",
    "        col_seqs = color_seqs_test\n",
    "\n",
    "\n",
    "    # Optionally include other preprocessing steps here. Note:\n",
    "    # DO NOT RETRAIN YOUR MODEL AS PART OF THIS EVALUATION!\n",
    "    # It's a tempting step, but it's a mistake and will get\n",
    "    # you disqualified!\n",
    "\n",
    "    # The following core score calculations are required:\n",
    "    evaluation = trained_model.evaluate(col_seqs, tok_seqs)\n",
    "\n",
    "    return evaluation"
   ]
  },
  {
   "cell_type": "markdown",
   "metadata": {},
   "source": [
    "If `evaluate_original_system` works on test sets you create from the corpus distribution, then it will work for the bake-off, so consider checking that. For example, this would check that `dev_mod` above passes muster:"
   ]
  },
  {
   "cell_type": "code",
   "execution_count": 72,
   "metadata": {},
   "outputs": [],
   "source": [
    "my_evaluation = evaluate_original_system(dev_mod, dev_rawcols_test, dev_texts_test)"
   ]
  },
  {
   "cell_type": "code",
   "execution_count": 73,
   "metadata": {},
   "outputs": [
    {
     "data": {
      "text/plain": [
       "0.7921105672329398"
      ]
     },
     "execution_count": 73,
     "metadata": {},
     "output_type": "execute_result"
    }
   ],
   "source": [
    "my_evaluation['listener_accuracy']"
   ]
  },
  {
   "cell_type": "code",
   "execution_count": 74,
   "metadata": {},
   "outputs": [
    {
     "data": {
      "text/plain": [
       "0.6319393719620887"
      ]
     },
     "execution_count": 74,
     "metadata": {},
     "output_type": "execute_result"
    }
   ],
   "source": [
    "my_evaluation['corpus_bleu']"
   ]
  },
  {
   "cell_type": "code",
   "execution_count": null,
   "metadata": {},
   "outputs": [],
   "source": []
  },
  {
   "cell_type": "markdown",
   "metadata": {},
   "source": [
    "----\n",
    "---"
   ]
  },
  {
   "cell_type": "code",
   "execution_count": null,
   "metadata": {},
   "outputs": [],
   "source": [
    "# dev_rawcols, dev_texts = zip(*[[ex.colors, ex.contents] for ex in dev_examples])\n",
    "# dev_rawcols_train, dev_rawcols_test, dev_texts_train, dev_texts_test = \\\n",
    "#     train_test_split(dev_rawcols, dev_texts)\n",
    "\n",
    "# dev_seqs_train = [tokenize_example(s) for s in dev_texts_train]\n",
    "# dev_seqs_test = [tokenize_example(s) for s in dev_texts_test]\t\n",
    "\n",
    "# # Whitespace\n",
    "# dev_seqs_train_base = [tokenize_example_baseline(s) for s in dev_texts_train]\n",
    "# dev_seqs_test_base = [tokenize_example_baseline(s) for s in dev_texts_test]\n",
    "# # Twitter\n",
    "# dev_seqs_train_twr= [tokenize_example_baseline(s) for s in dev_texts_train]\n",
    "# dev_seqs_test_twr = [tokenize_example_baseline(s) for s in dev_texts_test]\n",
    "\n",
    "\n",
    "# dev_vocab = sorted({w for toks in dev_seqs_train for w in toks})\n",
    "# dev_vocab += [UNK_SYMBOL]\n",
    "\n",
    "\n",
    "# dev_vocab_base = sorted({w for toks in dev_seqs_train_base for w in toks})\n",
    "# dev_vocab_base += [UNK_SYMBOL]\n",
    "\n",
    "# dev_cols_train = [represent_color_context(colors) for colors in dev_rawcols_train]\n",
    "# dev_cols_test = [represent_color_context(colors) for colors in dev_rawcols_test]\n",
    "`"
   ]
  },
  {
   "cell_type": "code",
   "execution_count": 40,
   "metadata": {},
   "outputs": [],
   "source": [
    "if 'IS_GRADESCOPE_ENV' not in os.environ:\n",
    "    import pickle\n"
   ]
  },
  {
   "cell_type": "markdown",
   "metadata": {},
   "source": [
    "**Experiment 0**: Baseline with simple dev_mod and colors not represented by fourier transform"
   ]
  },
  {
   "cell_type": "code",
   "execution_count": 41,
   "metadata": {},
   "outputs": [
    {
     "name": "stderr",
     "output_type": "stream",
     "text": [
      "Stopping after epoch 12. Validation score did not improve by tol=1e-05 for more than 10 epochs. Final error is 51.017526149749756"
     ]
    }
   ],
   "source": [
    "if 'IS_GRADESCOPE_ENV' not in os.environ:\n",
    "    ''' \n",
    "    Tokenization: Whitespace\n",
    "    Colors: no change\n",
    "    Embedding: default - random initial embedding, as configured by the decoder used by \n",
    "                    ContextualColorDescriber\n",
    "    Model: default\n",
    "    '''\n",
    "    dev_mod_base = ContextualColorDescriber(\n",
    "        dev_vocab_base,\n",
    "        early_stopping=True)\n",
    "    \n",
    "    # dev_rawcols_train\n",
    "    dev_mod_base.fit(dev_rawcols_train, dev_seqs_train_base)\n",
    "    \n",
    "#     pickle.dump(dev_mod_base, open('models_backup/dev_mod_base.sav', 'wb'))\n",
    "    "
   ]
  },
  {
   "cell_type": "code",
   "execution_count": 46,
   "metadata": {},
   "outputs": [
    {
     "name": "stdout",
     "output_type": "stream",
     "text": [
      "0.39965447739706306\n",
      "0.05711200691045207\n"
     ]
    }
   ],
   "source": [
    "if 'IS_GRADESCOPE_ENV' not in os.environ:\n",
    "    # old evaluate function\n",
    "    ex0_evaluation = evaluate_original_system(dev_mod_base, dev_rawcols_test, dev_texts_test, baseline=True, fourier = False)    \n",
    "    print(ex0_evaluation['listener_accuracy'])\n",
    "    print(ex0_evaluation['corpus_bleu'])"
   ]
  },
  {
   "cell_type": "code",
   "execution_count": null,
   "metadata": {},
   "outputs": [],
   "source": [
    "if 'IS_GRADESCOPE_ENV' not in os.environ:\n",
    "    # With new evaluate function\n",
    "    ex0_evaluation = evaluate_original_system(dev_mod_base, dev_rawcols_test, dev_texts_test, tokenization=\"whitespace\", fourier = False)    \n",
    "    print(ex0_evaluation['listener_accuracy'])\n",
    "    print(ex0_evaluation['corpus_bleu'])"
   ]
  },
  {
   "cell_type": "markdown",
   "metadata": {},
   "source": [
    "**Experiment 0.1**: Baseline with dev_mod based on whitspace tokenization and colors represented by fourier transform"
   ]
  },
  {
   "cell_type": "code",
   "execution_count": 47,
   "metadata": {},
   "outputs": [
    {
     "name": "stderr",
     "output_type": "stream",
     "text": [
      "Stopping after epoch 94. Validation score did not improve by tol=1e-05 for more than 10 epochs. Final error is 38.502209424972534"
     ]
    }
   ],
   "source": [
    "if 'IS_GRADESCOPE_ENV' not in os.environ:\n",
    "    ''' \n",
    "    Tokenization: Whitespace\n",
    "    Colors: Fourier\n",
    "    Embedding: default - random initial embedding, as configured by the decoder used by \n",
    "                    ContextualColorDescriber\n",
    "    Model: default\n",
    "    '''\n",
    "    dev_mod_base = ContextualColorDescriber(\n",
    "        dev_vocab_base,\n",
    "        early_stopping=True)\n",
    "    \n",
    "    dev_mod_base.fit(dev_cols_train, dev_seqs_train_base)\n",
    "    pickle.dump(dev_mod_base, open('models_backup/dev_mod_base01.sav', 'wb'))\n"
   ]
  },
  {
   "cell_type": "code",
   "execution_count": 49,
   "metadata": {},
   "outputs": [
    {
     "name": "stdout",
     "output_type": "stream",
     "text": [
      "0.764180823495537\n",
      "0.6779392792481822\n"
     ]
    }
   ],
   "source": [
    "if 'IS_GRADESCOPE_ENV' not in os.environ:\n",
    "    # old evaluate func\n",
    "    ex01_evaluation = evaluate_original_system(dev_mod_base, dev_rawcols_test, dev_texts_test, baseline=True, fourier = True)    \n",
    "    print(ex01_evaluation['listener_accuracy'])\n",
    "    print(ex01_evaluation['corpus_bleu'])"
   ]
  },
  {
   "cell_type": "code",
   "execution_count": null,
   "metadata": {},
   "outputs": [],
   "source": [
    "if 'IS_GRADESCOPE_ENV' not in os.environ:\n",
    "    # new evaluate func\n",
    "    ex01_evaluation = evaluate_original_system(dev_mod_base, dev_rawcols_test, dev_texts_test, tokenization=\"whitespace\", fourier = True)    \n",
    "    print(ex01_evaluation['listener_accuracy'])\n",
    "    print(ex01_evaluation['corpus_bleu'])"
   ]
  },
  {
   "cell_type": "markdown",
   "metadata": {},
   "source": [
    "**Experiment 1 [dev_mod_glove]**: Reusing GloVe embedding + Bert tokenization -> expecting that many tokens are not found in GloVe lookup"
   ]
  },
  {
   "cell_type": "code",
   "execution_count": 85,
   "metadata": {},
   "outputs": [
    {
     "name": "stdout",
     "output_type": "stream",
     "text": [
      "0.8036279873308378\n",
      "0.6307089447169227\n"
     ]
    }
   ],
   "source": [
    "if 'IS_GRADESCOPE_ENV' not in os.environ:\n",
    "    '''\n",
    "    Tokenization: Bert\n",
    "    Colors: Fourier\n",
    "    Embedding: GloVe\n",
    "    Model: default    \n",
    "    \n",
    "    dev_mod_glove = ContextualColorDescriber(\n",
    "        dev_glove_vocab,\n",
    "        embedding=dev_glove_embedding,\n",
    "        early_stopping=True)\n",
    "    '''\n",
    "    \n",
    "    ex1_evaluation = evaluate_original_system(dev_mod_glove, dev_rawcols_test, dev_texts_test)    \n",
    "    print(ex1_evaluation['listener_accuracy'])\n",
    "    print(ex1_evaluation['corpus_bleu'])"
   ]
  },
  {
   "cell_type": "code",
   "execution_count": 93,
   "metadata": {},
   "outputs": [],
   "source": [
    "# pickle.dump(dev_mod_glove, open('dev_mod_glove_backup.sav', 'wb'))\n",
    "# pickle.dump(dev_mod, open('dev_mod_backup.sav', 'wb'))"
   ]
  },
  {
   "cell_type": "markdown",
   "metadata": {},
   "source": [
    " **Experiment 2** [] : Glove + white-space tokenization"
   ]
  },
  {
   "cell_type": "code",
   "execution_count": 55,
   "metadata": {},
   "outputs": [
    {
     "name": "stderr",
     "output_type": "stream",
     "text": [
      "Stopping after epoch 106. Validation score did not improve by tol=1e-05 for more than 10 epochs. Final error is 36.39030885696411"
     ]
    }
   ],
   "source": [
    "if 'IS_GRADESCOPE_ENV' not in os.environ:\n",
    "    '''\n",
    "    Tokenization: Whitespace\n",
    "    Colors: Fourier\n",
    "    Embedding: GloVe\n",
    "    Model: default       \n",
    "    \n",
    "    dev_mod_glove = ContextualColorDescriber(\n",
    "        dev_glove_vocab,\n",
    "        embedding=dev_glove_embedding,\n",
    "        early_stopping=True)\n",
    "    '''\n",
    "    dev_glove_embedding_W, dev_glove_vocab_W = create_glove_embedding(dev_vocab_base)\n",
    "    \n",
    "    dev_mod_glove_white = ContextualColorDescriber(\n",
    "        dev_glove_vocab_W,\n",
    "        embedding=dev_glove_embedding_W,\n",
    "        early_stopping=True)\n",
    "    \n",
    "    dev_mod_glove_white.fit(dev_cols_train, dev_seqs_train_base)\n",
    "    pickle.dump(dev_mod_glove_white, open('models_backup/dev_mod_glove_white.sav', 'wb'))"
   ]
  },
  {
   "cell_type": "code",
   "execution_count": 56,
   "metadata": {},
   "outputs": [
    {
     "name": "stderr",
     "output_type": "stream",
     "text": [
      "/home/vicaran93/repos/AI-certificate-stanford/CS224/cs224u/torch_color_describer.py:680: RuntimeWarning: divide by zero encountered in power\n",
      "  perp = [np.prod(s)**(-1/len(s)) for s in scores]\n"
     ]
    },
    {
     "name": "stdout",
     "output_type": "stream",
     "text": [
      "0.7575583069392456\n",
      "0.6221401283633\n"
     ]
    }
   ],
   "source": [
    "if 'IS_GRADESCOPE_ENV' not in os.environ:\n",
    "    \n",
    "    ex2_evaluation = evaluate_original_system(dev_mod_glove_white, dev_rawcols_test, dev_texts_test)    \n",
    "    print(ex2_evaluation['listener_accuracy'])\n",
    "    print(ex2_evaluation['corpus_bleu'])"
   ]
  },
  {
   "cell_type": "markdown",
   "metadata": {},
   "source": [
    "----"
   ]
  },
  {
   "cell_type": "markdown",
   "metadata": {},
   "source": [
    "**Experiment 3 []** : Glove + twitter tokenization "
   ]
  },
  {
   "cell_type": "code",
   "execution_count": 63,
   "metadata": {},
   "outputs": [
    {
     "name": "stderr",
     "output_type": "stream",
     "text": [
      "Stopping after epoch 131. Validation score did not improve by tol=1e-05 for more than 10 epochs. Final error is 35.483139991760254"
     ]
    }
   ],
   "source": [
    "if 'IS_GRADESCOPE_ENV' not in os.environ:\n",
    "    '''\n",
    "    Tokenization: twitter\n",
    "    Colors: Fourier\n",
    "    Embedding: GloVe\n",
    "    Model: default       \n",
    "    \n",
    "    dev_mod_glove = ContextualColorDescriber(\n",
    "        dev_glove_vocab,\n",
    "        embedding=dev_glove_embedding,\n",
    "        early_stopping=True)\n",
    "    '''\n",
    "    # Twitter\n",
    "    dev_seqs_train_twr= [tokenize_example_twr(s) for s in dev_texts_train]\n",
    "    dev_seqs_test_twr = [tokenize_example_twr(s) for s in dev_texts_test]\n",
    "    \n",
    "    dev_vocab_twr = sorted({w for toks in dev_seqs_train_twr for w in toks})\n",
    "    dev_vocab_twr += [UNK_SYMBOL]\n",
    "    \n",
    "    \n",
    "    \n",
    "    dev_glove_embedding_twr, dev_glove_vocab_twr = create_glove_embedding(dev_vocab_twr)\n",
    "    \n",
    "    dev_mod_glove_twr = ContextualColorDescriber(\n",
    "        dev_glove_vocab_twr,\n",
    "        embedding=dev_glove_embedding_twr,\n",
    "        early_stopping=True)\n",
    "    \n",
    "    dev_mod_glove_twr.fit(dev_cols_train, dev_seqs_train_twr)\n",
    "    pickle.dump(dev_mod_glove_twr, open('models_backup/dev_mod_glove_twr.sav', 'wb'))"
   ]
  },
  {
   "cell_type": "code",
   "execution_count": 66,
   "metadata": {},
   "outputs": [
    {
     "name": "stdout",
     "output_type": "stream",
     "text": [
      "0.7955657932623093\n",
      "0.6591797799926038\n"
     ]
    }
   ],
   "source": [
    "if 'IS_GRADESCOPE_ENV' not in os.environ:\n",
    "    \n",
    "    ex3_evaluation = evaluate_original_system(dev_mod_glove_twr, dev_rawcols_test, dev_texts_test, tokenization='twitter')    \n",
    "    print(ex3_evaluation['listener_accuracy'])\n",
    "    print(ex3_evaluation['corpus_bleu'])"
   ]
  },
  {
   "cell_type": "markdown",
   "metadata": {},
   "source": [
    "Note: Glove + twitter tokenizer seems to perform better than using Glove embedding + Bert tokenization, expecting to get better results if I use Bert embedding + Bert tokenization"
   ]
  },
  {
   "cell_type": "code",
   "execution_count": null,
   "metadata": {},
   "outputs": [],
   "source": []
  },
  {
   "cell_type": "markdown",
   "metadata": {},
   "source": [
    "**Experiment 4 []** : BERT -> Using full sentence mapped to BERT embedding. Expecting it not to generalize well, next experiment will be at the word level after tokenizing with twitter or Bert?\n"
   ]
  },
  {
   "cell_type": "code",
   "execution_count": 78,
   "metadata": {},
   "outputs": [],
   "source": [
    "if 'IS_GRADESCOPE_ENV' not in os.environ:\n",
    "    \n",
    "    from transformers import BertModel, BertTokenizer\n",
    "    import vsm\n",
    "    \n",
    "    bert_weights_name = 'bert-base-uncased'\n",
    "    bert_tokenizer = BertTokenizer.from_pretrained(bert_weights_name)\n",
    "    bert_model = BertModel.from_pretrained(bert_weights_name)"
   ]
  },
  {
   "cell_type": "code",
   "execution_count": 84,
   "metadata": {},
   "outputs": [
    {
     "name": "stdout",
     "output_type": "stream",
     "text": [
      "First sentence:  lime green\n",
      "number of sentences 10417\n"
     ]
    }
   ],
   "source": [
    "print('First sentence: ',dev_texts_train[0])\n",
    "print('number of sentences', len(dev_texts_train))"
   ]
  },
  {
   "cell_type": "code",
   "execution_count": 100,
   "metadata": {},
   "outputs": [],
   "source": [
    "def create_bert_embedding(text):    \n",
    "    ''' Given text, create BERT embedding representation grabbing last layer at CLS level '''    \n",
    "    text_token = vsm.hf_encode(text, bert_tokenizer, add_special_tokens=True)\n",
    "    # Get the BERT representations. `vsm.hf_represent` will help:\n",
    "    \n",
    "    bert_reps = vsm.hf_represent(text_token, bert_model) #  layer=-1\n",
    "\n",
    "    # reps.mean(axis=0)  # Another good, easy option.\n",
    "    cls_rep = bert_reps[0][0]\n",
    "\n",
    "    # These conversions should ensure that you can work with the\n",
    "    # representations flexibly. Feel free to change the variable\n",
    "    # name:        \n",
    "    return cls_rep.cpu().numpy()    \n",
    "\n",
    "def tokenize_bert_ex4(sentence): \n",
    "    ''' Simple full sentence tokenizer'''\n",
    "    return [START_SYMBOL] + [sentence] + [END_SYMBOL]\n"
   ]
  },
  {
   "cell_type": "code",
   "execution_count": 89,
   "metadata": {},
   "outputs": [
    {
     "name": "stdout",
     "output_type": "stream",
     "text": [
      "Size of first sentence embedding:  768\n"
     ]
    }
   ],
   "source": [
    "print('Size of first sentence embedding: ', len(create_bert_embedding(dev_texts_train[0])))"
   ]
  },
  {
   "cell_type": "markdown",
   "metadata": {},
   "source": [
    "Create tokenized training text sequences and their embeddings"
   ]
  },
  {
   "cell_type": "code",
   "execution_count": 101,
   "metadata": {},
   "outputs": [],
   "source": [
    "dev_bert_seqs_train = [tokenize_bert_ex4(sentence) for sentence in dev_texts_train]"
   ]
  },
  {
   "cell_type": "code",
   "execution_count": 102,
   "metadata": {},
   "outputs": [],
   "source": [
    "dev_bert_embedding = [create_bert_embedding(sentence) for sentence in dev_bert_seqs_train]"
   ]
  },
  {
   "cell_type": "code",
   "execution_count": 104,
   "metadata": {},
   "outputs": [
    {
     "name": "stdout",
     "output_type": "stream",
     "text": [
      "10417 768\n"
     ]
    }
   ],
   "source": [
    "print(len(dev_bert_embedding), len(dev_bert_embedding[0]))"
   ]
  },
  {
   "cell_type": "code",
   "execution_count": 106,
   "metadata": {},
   "outputs": [
    {
     "data": {
      "text/plain": [
       "10417"
      ]
     },
     "execution_count": 106,
     "metadata": {},
     "output_type": "execute_result"
    }
   ],
   "source": [
    "len(dev_texts_train)"
   ]
  },
  {
   "cell_type": "code",
   "execution_count": 107,
   "metadata": {},
   "outputs": [
    {
     "data": {
      "text/plain": [
       "10417"
      ]
     },
     "execution_count": 107,
     "metadata": {},
     "output_type": "execute_result"
    }
   ],
   "source": [
    "len(dev_bert_embedding)"
   ]
  },
  {
   "cell_type": "markdown",
   "metadata": {},
   "source": [
    "Create vocab"
   ]
  },
  {
   "cell_type": "code",
   "execution_count": 108,
   "metadata": {},
   "outputs": [],
   "source": [
    "dev_bert_vocab = sorted({w for toks in dev_bert_seqs_train for w in toks})\n",
    "dev_bert_vocab += [UNK_SYMBOL]"
   ]
  },
  {
   "cell_type": "code",
   "execution_count": 109,
   "metadata": {},
   "outputs": [
    {
     "data": {
      "text/plain": [
       "3164"
      ]
     },
     "execution_count": 109,
     "metadata": {},
     "output_type": "execute_result"
    }
   ],
   "source": [
    "len(dev_bert_vocab)"
   ]
  },
  {
   "cell_type": "markdown",
   "metadata": {},
   "source": [
    "train BERT model on full sentences"
   ]
  },
  {
   "cell_type": "code",
   "execution_count": 110,
   "metadata": {},
   "outputs": [
    {
     "name": "stderr",
     "output_type": "stream",
     "text": [
      "Stopping after epoch 72. Validation score did not improve by tol=1e-05 for more than 10 epochs. Final error is 23.330087423324585"
     ]
    }
   ],
   "source": [
    "if 'IS_GRADESCOPE_ENV' not in os.environ:\n",
    "\n",
    "    dev_mod_bert_fsentence = ContextualColorDescriber(\n",
    "        dev_bert_vocab,\n",
    "        embedding=dev_bert_embedding,\n",
    "        early_stopping=True)\n",
    "    \n",
    "    dev_mod_bert_fsentence.fit(dev_cols_train, dev_bert_seqs_train) # dev_cols_train -> colors with Fourier\n",
    "    pickle.dump(dev_mod_bert_fsentence, open('models_backup/dev_mod_bert_fsentence.sav', 'wb'))"
   ]
  },
  {
   "cell_type": "markdown",
   "metadata": {},
   "source": [
    "Evaluate model:"
   ]
  },
  {
   "cell_type": "code",
   "execution_count": 112,
   "metadata": {},
   "outputs": [
    {
     "name": "stdout",
     "output_type": "stream",
     "text": [
      "0.6898934638640944\n",
      "0.7070736024798469\n"
     ]
    }
   ],
   "source": [
    "if 'IS_GRADESCOPE_ENV' not in os.environ:\n",
    "    \n",
    "    ex4_evaluation = evaluate_original_system(dev_mod_bert_fsentence, dev_rawcols_test, dev_texts_test, tokenization = 'tokenize_bert_ex4')    \n",
    "    print(ex4_evaluation['listener_accuracy'])\n",
    "    print(ex4_evaluation['corpus_bleu'])"
   ]
  },
  {
   "cell_type": "markdown",
   "metadata": {},
   "source": [
    "**Best  Corpus Bleu score! Bert embedding seems promising**"
   ]
  },
  {
   "cell_type": "markdown",
   "metadata": {},
   "source": [
    "notes: dev_texts-> split -> dev_texts_train -> tokenize() -> dev_seqs_train -> fit(,<>)"
   ]
  },
  {
   "cell_type": "markdown",
   "metadata": {},
   "source": [
    "----"
   ]
  },
  {
   "cell_type": "markdown",
   "metadata": {},
   "source": [
    "**Experiment 5 []** : BERT -> tokenized sentence using Bert"
   ]
  },
  {
   "cell_type": "markdown",
   "metadata": {},
   "source": [
    "Create tokenized training text sequences and their embeddings:"
   ]
  },
  {
   "cell_type": "code",
   "execution_count": 118,
   "metadata": {},
   "outputs": [],
   "source": [
    "dev_seqs_train = [tokenize_example(s) for s in dev_texts_train]\n",
    "dev_seqs_test = [tokenize_example(s) for s in dev_texts_test]"
   ]
  },
  {
   "cell_type": "code",
   "execution_count": 120,
   "metadata": {},
   "outputs": [
    {
     "name": "stdout",
     "output_type": "stream",
     "text": [
      "10417  | one example:  ['<s>', 'ma', '##uve', 'reddish', '</s>']\n"
     ]
    }
   ],
   "source": [
    "print(len(dev_seqs_train), \" | 999th example: \", dev_seqs_train[999])"
   ]
  },
  {
   "cell_type": "code",
   "execution_count": 121,
   "metadata": {},
   "outputs": [],
   "source": [
    "dev_bert_embedding = [create_bert_embedding(seq) for seq in dev_seqs_train] # create_bert_embedding is tokenizing as well,"
   ]
  },
  {
   "cell_type": "code",
   "execution_count": 122,
   "metadata": {},
   "outputs": [
    {
     "name": "stdout",
     "output_type": "stream",
     "text": [
      "10417 768\n"
     ]
    }
   ],
   "source": [
    "print(len(dev_bert_embedding), len(dev_bert_embedding[0]))"
   ]
  },
  {
   "cell_type": "code",
   "execution_count": 123,
   "metadata": {},
   "outputs": [
    {
     "data": {
      "text/plain": [
       "963"
      ]
     },
     "execution_count": 123,
     "metadata": {},
     "output_type": "execute_result"
    }
   ],
   "source": [
    "dev_vocab = sorted({w for toks in dev_seqs_train for w in toks})\n",
    "dev_vocab += [UNK_SYMBOL]\n",
    "\n",
    "len(dev_vocab)"
   ]
  },
  {
   "cell_type": "markdown",
   "metadata": {},
   "source": [
    "train BERT model + tokenize with bert\n"
   ]
  },
  {
   "cell_type": "code",
   "execution_count": 124,
   "metadata": {},
   "outputs": [
    {
     "name": "stderr",
     "output_type": "stream",
     "text": [
      "Stopping after epoch 103. Validation score did not improve by tol=1e-05 for more than 10 epochs. Final error is 37.705718755722046"
     ]
    }
   ],
   "source": [
    "\n",
    "if 'IS_GRADESCOPE_ENV' not in os.environ:\n",
    "\n",
    "    dev_mod_bert_berttoken = ContextualColorDescriber(\n",
    "        dev_vocab,\n",
    "        embedding=dev_bert_embedding,\n",
    "        early_stopping=True)\n",
    "    \n",
    "    dev_mod_bert_berttoken.fit(dev_cols_train, dev_seqs_train) # dev_cols_train -> colors with Fourier\n",
    "    pickle.dump(dev_mod_bert_berttoken, open('models_backup/dev_mod_bert_berttoken.sav', 'wb'))"
   ]
  },
  {
   "cell_type": "code",
   "execution_count": 125,
   "metadata": {},
   "outputs": [
    {
     "name": "stdout",
     "output_type": "stream",
     "text": [
      "0.7900950187158077\n",
      "0.6290403078092195\n"
     ]
    }
   ],
   "source": [
    "if 'IS_GRADESCOPE_ENV' not in os.environ:\n",
    "    \n",
    "    ex5_evaluation = evaluate_original_system(dev_mod_bert_berttoken, dev_rawcols_test, dev_texts_test)    \n",
    "    print(ex5_evaluation['listener_accuracy'])\n",
    "    print(ex5_evaluation['corpus_bleu'])"
   ]
  },
  {
   "cell_type": "markdown",
   "metadata": {},
   "source": [
    "Bert on full sentence obtained better Bleu score but this one has better listener accuracy"
   ]
  },
  {
   "cell_type": "markdown",
   "metadata": {},
   "source": [
    "**Experiment 6 []** : BERT -> tokenized sentence using Twitter"
   ]
  },
  {
   "cell_type": "code",
   "execution_count": null,
   "metadata": {},
   "outputs": [],
   "source": [
    "# Twitter\n",
    "#dev_seqs_train_twr= [tokenize_example_twr(s) for s in dev_texts_train]\n",
    "#dev_seqs_test_twr = [tokenize_example_twr(s) for s in dev_texts_test]\n",
    "print(\"dev_seqs_train_twr: \" ,len(dev_seqs_train_twr), len(dev_seqs_train_twr[0]))\n",
    "print(\"dev_seqs_test_twr: \" ,len(dev_seqs_test_twr), len(dev_seqs_test_twr[0]))"
   ]
  },
  {
   "cell_type": "code",
   "execution_count": null,
   "metadata": {},
   "outputs": [],
   "source": [
    "dev_bert_embedding = [create_bert_embedding(seq) for seq in dev_seqs_train_twr] # create_bert_embedding is tokenizing as well,"
   ]
  },
  {
   "cell_type": "code",
   "execution_count": null,
   "metadata": {},
   "outputs": [],
   "source": [
    "dev_vocab_twr = sorted({w for toks in dev_seqs_train_twr for w in toks})\n",
    "dev_vocab_twr += [UNK_SYMBOL]"
   ]
  },
  {
   "cell_type": "code",
   "execution_count": 126,
   "metadata": {},
   "outputs": [
    {
     "name": "stderr",
     "output_type": "stream",
     "text": [
      "/home/vicaran93/repos/AI-certificate-stanford/CS224/cs224u/torch_color_describer.py:680: RuntimeWarning: divide by zero encountered in power\n",
      "  perp = [np.prod(s)**(-1/len(s)) for s in scores]\n",
      "Finished epoch 1 of 1000; error is 69.0338306427002/home/vicaran93/repos/AI-certificate-stanford/CS224/cs224u/torch_color_describer.py:680: RuntimeWarning: divide by zero encountered in power\n",
      "  perp = [np.prod(s)**(-1/len(s)) for s in scores]\n",
      "Stopping after epoch 112. Validation score did not improve by tol=1e-05 for more than 10 epochs. Final error is 37.72165513038635"
     ]
    }
   ],
   "source": [
    "if 'IS_GRADESCOPE_ENV' not in os.environ:\n",
    "\n",
    "    dev_mod_bert_twr = ContextualColorDescriber(\n",
    "        dev_vocab_twr,\n",
    "        embedding=dev_bert_embedding,\n",
    "        early_stopping=True)\n",
    "    \n",
    "    dev_mod_bert_twr.fit(dev_cols_train, dev_seqs_train_twr) # dev_cols_train -> colors with Fourier\n",
    "    pickle.dump(dev_mod_bert_twr, open('models_backup/dev_mod_bert_twr.sav', 'wb'))"
   ]
  },
  {
   "cell_type": "code",
   "execution_count": 127,
   "metadata": {},
   "outputs": [
    {
     "name": "stdout",
     "output_type": "stream",
     "text": [
      "0.7782896631154621\n",
      "0.6571564783243491\n"
     ]
    }
   ],
   "source": [
    "if 'IS_GRADESCOPE_ENV' not in os.environ:\n",
    "    \n",
    "    ex6_evaluation = evaluate_original_system(dev_mod_bert_twr, dev_rawcols_test, dev_texts_test, tokenization = 'twitter')    \n",
    "    print(ex6_evaluation['listener_accuracy'])\n",
    "    print(ex6_evaluation['corpus_bleu'])"
   ]
  },
  {
   "cell_type": "markdown",
   "metadata": {},
   "source": [
    "**Experiment 7**: Use ColorizedInputDescriber instead of ContextualColorDescriber "
   ]
  },
  {
   "cell_type": "markdown",
   "metadata": {},
   "source": [
    "From example 4: Bert + full sentence"
   ]
  },
  {
   "cell_type": "code",
   "execution_count": 160,
   "metadata": {},
   "outputs": [
    {
     "name": "stderr",
     "output_type": "stream",
     "text": [
      "Stopping after epoch 81. Validation score did not improve by tol=1e-05 for more than 10 epochs. Final error is 21.876415729522705"
     ]
    }
   ],
   "source": [
    "if 'IS_GRADESCOPE_ENV' not in os.environ:\n",
    "\n",
    "    dev_mod_bert_fsentence_cid = ColorizedInputDescriber(\n",
    "        dev_bert_vocab,\n",
    "        embedding=dev_bert_embedding,\n",
    "        early_stopping=True)\n",
    "    \n",
    "    dev_mod_bert_fsentence_cid.fit(dev_cols_train, dev_bert_seqs_train) # dev_cols_train -> colors with Fourier\n",
    "    pickle.dump(dev_mod_bert_fsentence_cid, open('models_backup/dev_mod_bert_fsentence_cid.sav', 'wb'))"
   ]
  },
  {
   "cell_type": "code",
   "execution_count": 161,
   "metadata": {},
   "outputs": [
    {
     "name": "stdout",
     "output_type": "stream",
     "text": [
      "0.6893175928591996\n",
      "0.7069776370093099\n"
     ]
    }
   ],
   "source": [
    "if 'IS_GRADESCOPE_ENV' not in os.environ:\n",
    "    \n",
    "    ex7_evaluation = evaluate_original_system(dev_mod_bert_fsentence_cid, dev_rawcols_test, dev_texts_test, tokenization = 'tokenize_bert_ex4')    \n",
    "    print(ex7_evaluation['listener_accuracy'])\n",
    "    print(ex7_evaluation['corpus_bleu'])"
   ]
  },
  {
   "cell_type": "markdown",
   "metadata": {},
   "source": [
    "comparing to when we use ContextualColorDescriber where we got: \n",
    "\n",
    "`\n",
    "0.6898934638640944\n",
    "0.7070736024798469`\n",
    "\n",
    "Slight improvement on listener accuracy"
   ]
  },
  {
   "cell_type": "markdown",
   "metadata": {},
   "source": [
    "----"
   ]
  },
  {
   "cell_type": "markdown",
   "metadata": {},
   "source": [
    "Focus on listener_accuracy! \n",
    "\n",
    "**Experiment 8**:  Based on experiment 1 + ColorizedInputDescriber"
   ]
  },
  {
   "cell_type": "code",
   "execution_count": 162,
   "metadata": {},
   "outputs": [
    {
     "name": "stderr",
     "output_type": "stream",
     "text": [
      "/home/vicaran93/repos/AI-certificate-stanford/CS224/cs224u/torch_color_describer.py:680: RuntimeWarning: divide by zero encountered in power\n",
      "  perp = [np.prod(s)**(-1/len(s)) for s in scores]\n",
      "Finished epoch 1 of 1000; error is 69.27665042877197/home/vicaran93/repos/AI-certificate-stanford/CS224/cs224u/torch_color_describer.py:680: RuntimeWarning: divide by zero encountered in power\n",
      "  perp = [np.prod(s)**(-1/len(s)) for s in scores]\n",
      "Stopping after epoch 129. Validation score did not improve by tol=1e-05 for more than 10 epochs. Final error is 34.96061968803406"
     ]
    },
    {
     "name": "stdout",
     "output_type": "stream",
     "text": [
      "0.808810826374892\n",
      "0.6334312066193492\n"
     ]
    }
   ],
   "source": [
    "if 'IS_GRADESCOPE_ENV' not in os.environ:\n",
    "    '''\n",
    "    Tokenization: Bert\n",
    "    Colors: Fourier\n",
    "    Embedding: GloVe\n",
    "    Model: default \n",
    "    ColorizedInputDescriber(ContextualColorDescriber)\n",
    "     '''\n",
    "    \n",
    "    dev_mod_glove_2 = ColorizedInputDescriber(\n",
    "        dev_glove_vocab,\n",
    "        embedding=dev_glove_embedding,\n",
    "        early_stopping=True)\n",
    "    \n",
    "    dev_mod_glove_2.fit(dev_cols_train, dev_seqs_train)\n",
    "    \n",
    "    ex8_evaluation = evaluate_original_system(dev_mod_glove_2, dev_rawcols_test, dev_texts_test)    \n",
    "    print(ex8_evaluation['listener_accuracy'])\n",
    "    print(ex8_evaluation['corpus_bleu'])"
   ]
  },
  {
   "cell_type": "markdown",
   "metadata": {},
   "source": [
    "0.7828966311546214\n",
    "0.6314326684139183"
   ]
  },
  {
   "cell_type": "markdown",
   "metadata": {},
   "source": [
    "---"
   ]
  },
  {
   "cell_type": "markdown",
   "metadata": {},
   "source": [
    "Notes: Lets explore different structures of the RNN e.g. ColorizedInputDescriber \n",
    "\n",
    "**Experiment 9**: Encoder and Decoder have two RNNs connected"
   ]
  },
  {
   "cell_type": "code",
   "execution_count": 189,
   "metadata": {},
   "outputs": [],
   "source": [
    "from torch_color_describer import Decoder\n",
    "import torch\n",
    "import torch.nn as nn\n",
    "\n",
    "class ColorContext_Encoder_V2(Encoder):\n",
    "    def __init__(self, color_dim, *args, **kwargs):\n",
    "        self.color_dim = color_dim\n",
    "        super().__init__(color_dim, *args, **kwargs)\n",
    "\n",
    "        # Change self.rnn : nn.GRU -> nn.RNN + 2 layers\n",
    "        self.rnn = nn.RNN(\n",
    "            input_size=color_dim,\n",
    "            num_layers=3,\n",
    "            hidden_size=self.hidden_dim,\n",
    "            batch_first=True)\n",
    "        \n",
    "    def forward(self, color_seqs):\n",
    "        \"\"\"\n",
    "        Parameters\n",
    "        ----------\n",
    "        color_seqs : torch.FloatTensor\n",
    "            The shape is `(m, n, p)` where `m` is the batch_size,\n",
    "             `n` is the number of colors in each context, and `p` is\n",
    "             the color dimensionality.\n",
    "\n",
    "        Returns\n",
    "        -------\n",
    "        hidden : torch.FloatTensor\n",
    "            These are the final hidden state of the RNN for this batch,\n",
    "            shape `(m, p) where `m` is the batch_size and `p` is\n",
    "             the color dimensionality.\n",
    "\n",
    "        \"\"\"\n",
    "        output, hidden = self.rnn(color_seqs)\n",
    "        \n",
    "        # NOTE: Assuming that last element in hidden in the first dimension = last layer in RNN\n",
    "\n",
    "        x, y, z = hidden.shape\n",
    "        \n",
    "        #print('hidden.shape: ',hidden.shape)\n",
    "        #print('hidden[x-1:x, :, :].shape: ',hidden[x-1:x, :, :].shape)\n",
    "        \n",
    "        return hidden[x-1:x, :, :]\n",
    "\n",
    "class ColorContextDecoder_V2(Decoder):\n",
    "    def __init__(self, color_dim, *args, **kwargs):\n",
    "        self.color_dim = color_dim\n",
    "        super().__init__(*args, **kwargs)\n",
    "\n",
    "        # Change self.rnn : nn.GRU -> nn.RNN + 2 layers\n",
    "        self.rnn = nn.RNN(\n",
    "            input_size=self.embed_dim + color_dim,\n",
    "            num_layers=1,\n",
    "            hidden_size=self.hidden_dim,\n",
    "            batch_first=True)\n",
    "\n",
    "\n",
    "    def get_embeddings(self, word_seqs, target_colors=None):\n",
    "        \"\"\"\n",
    "        You can assume that `target_colors` is a tensor of shape\n",
    "        (m, n), where m is the length of the batch (same as\n",
    "        `word_seqs.shape[0]`) and n is the dimensionality of the\n",
    "        color representations the model is using. The goal is\n",
    "        to attached each color vector i to each of the tokens in\n",
    "        the ith sequence of (the embedded version of) `word_seqs`.\n",
    "\n",
    "        \"\"\"\n",
    "        ##### YOUR CODE HERE\n",
    "        # concat embeddings with target colors:\n",
    "        if target_colors != None:\n",
    "            pass\n",
    "            ''' Testing:\n",
    "            print(\"self.embedding(word_seqs) size:\\n\", self.embedding(word_seqs).size())\n",
    "            print(\"self.embedding(word_seqs)\\n\", self.embedding(word_seqs))\n",
    "            print(\"rows in embedding:\\n\", self.embedding(word_seqs).shape[1])\n",
    "            \n",
    "            print(\"target_colors size:\\n\", target_colors.size())\n",
    "            print(\"target_colors:\\n\", target_colors) \n",
    "            '''\n",
    "            \n",
    "            n_seq = len(word_seqs)\n",
    "            n_embeddings_per_seq = word_seqs.shape[1]\n",
    "            target_cols = target_colors.shape[1]      \n",
    "            embedding = self.embedding(word_seqs)\n",
    "            # Repeat and Reshape\n",
    "            x = torch.repeat_interleave(target_colors, n_embeddings_per_seq, dim=0)\n",
    "\n",
    "            x_reshaped = torch.reshape(x, (n_seq, n_embeddings_per_seq, target_cols))\n",
    "        \n",
    "            return torch.cat((self.embedding(word_seqs), x_reshaped), 2)\n",
    "        \n",
    "        else:                     \n",
    "            return self.embedding(word_seqs)\n",
    "\n",
    "\n",
    "from torch_color_describer import EncoderDecoder\n",
    "\n",
    "class ColorizedEncoderDecoder_V2(EncoderDecoder):\n",
    "\n",
    "    def forward(self,\n",
    "            color_seqs,\n",
    "            word_seqs,\n",
    "            seq_lengths=None,\n",
    "            hidden=None,\n",
    "            targets=None):\n",
    "        if hidden is None:\n",
    "            hidden = self.encoder(color_seqs)\n",
    "\n",
    "        # Extract the target colors from `color_seqs` and\n",
    "        # feed them to the decoder, which already has a\n",
    "        # `target_colors` keyword.\n",
    "\n",
    "        ##### YOUR CODE HERE\n",
    "        # Extract the target colors from color_seqs:        \n",
    "        \n",
    "        x,y,z = color_seqs.shape        \n",
    "        targets = color_seqs[:,y-1:y,:]\n",
    "        targets = torch.reshape(targets, (targets.shape[0], targets.shape[-1]))\n",
    "        \n",
    "        \n",
    "        # this will call the forward decoder method which will call the get_embeddings from ColorContextDecoder\n",
    "        output, hidden = self.decoder(word_seqs, seq_lengths=seq_lengths, hidden=hidden, target_colors=targets)\n",
    "        \n",
    "\n",
    "        # Your decoder will return `output, hidden` pairs; the\n",
    "        # following will handle the two return situations that\n",
    "        # the code needs to consider -- training and prediction.\n",
    "        if self.training:\n",
    "            return output\n",
    "        else:\n",
    "            return output, hidden\n",
    "\n",
    "\n",
    "from torch_color_describer import Encoder\n",
    "\n",
    "class ColorizedInputDescriber_V2(ContextualColorDescriber):\n",
    "\n",
    "    def build_graph(self):\n",
    "\n",
    "        # We didn't modify the encoder, so this is\n",
    "        # just copied over from the original:\n",
    "#         encoder = Encoder(\n",
    "#             color_dim=self.color_dim,\n",
    "#             hidden_dim=self.hidden_dim)\n",
    "        encoder = ColorContext_Encoder_V2(\n",
    "            self.color_dim,\n",
    "            hidden_dim=self.hidden_dim)\n",
    "\n",
    "        # Use your `ColorContextDecoder`, making sure\n",
    "        # to pass in all the keyword arguments coming\n",
    "        # from `ColorizedInputDescriber`:\n",
    "\n",
    "        ##### YOUR CODE HERE\n",
    "        decoder = ColorContextDecoder_V2(self.color_dim,\\\n",
    "                                        vocab_size=self.vocab_size,\n",
    "                                        embed_dim=self.embed_dim,\n",
    "                                        embedding=self.embedding,\n",
    "                                        hidden_dim=self.hidden_dim)\n",
    "\n",
    "\n",
    "        # Return a `ColorizedEncoderDecoder` that uses\n",
    "        # your encoder and decoder:\n",
    "\n",
    "        ##### YOUR CODE HERE\n",
    "        \n",
    "        return ColorizedEncoderDecoder_V2(encoder, decoder)\n"
   ]
  },
  {
   "cell_type": "code",
   "execution_count": 190,
   "metadata": {},
   "outputs": [
    {
     "name": "stderr",
     "output_type": "stream",
     "text": [
      "/home/vicaran93/repos/AI-certificate-stanford/CS224/cs224u/torch_color_describer.py:680: RuntimeWarning: divide by zero encountered in power\n",
      "  perp = [np.prod(s)**(-1/len(s)) for s in scores]\n",
      "Stopping after epoch 87. Validation score did not improve by tol=1e-05 for more than 10 epochs. Final error is 40.28198456764221"
     ]
    },
    {
     "name": "stdout",
     "output_type": "stream",
     "text": [
      "0.7932623092427297\n",
      "0.6306508853784456\n"
     ]
    }
   ],
   "source": [
    "if 'IS_GRADESCOPE_ENV' not in os.environ:\n",
    "    '''\n",
    "    Tokenization: Bert\n",
    "    Colors: Fourier\n",
    "    Embedding: GloVe\n",
    "    Model: default \n",
    "    ColorizedInputDescriber(ContextualColorDescriber)\n",
    "     '''\n",
    "    #from torch_color_describer import Decoder\n",
    "\n",
    "    dev_mod_glove__v2 = ColorizedInputDescriber_V2(\n",
    "        dev_glove_vocab,\n",
    "        embedding=dev_glove_embedding,\n",
    "        early_stopping=True)\n",
    "    \n",
    "    dev_mod_glove__v2.fit(dev_cols_train, dev_seqs_train)\n",
    "    \n",
    "    ex9_evaluation = evaluate_original_system(dev_mod_glove__v2, dev_rawcols_test, dev_texts_test)    \n",
    "    print(ex9_evaluation['listener_accuracy'])\n",
    "    print(ex9_evaluation['corpus_bleu'])"
   ]
  },
  {
   "cell_type": "markdown",
   "metadata": {},
   "source": [
    "----"
   ]
  },
  {
   "cell_type": "code",
   "execution_count": null,
   "metadata": {},
   "outputs": [],
   "source": [
    "# class TorchRNNModel(nn.Module):\n",
    "\n",
    "rnn_glove = TorchRNNClassifier(\n",
    "    sst_glove_vocab,\n",
    "    embedding=glove_embedding,\n",
    "    early_stopping=True)"
   ]
  },
  {
   "cell_type": "markdown",
   "metadata": {},
   "source": [
    "---\n",
    "---"
   ]
  },
  {
   "cell_type": "markdown",
   "metadata": {},
   "source": [
    "In the cell below, please provide a brief technical description of your original system, so that the teaching team can gain an understanding of what it does. This will help us to understand your code and analyze all the submissions to identify patterns and strategies. We also ask that you report the best **listener_accuracy** score your system got during development, just to help us understand how systems performed overall.\n",
    "\n",
    "<font color='red'>Please review the descriptions in the following comment and follow the instructions.</font>"
   ]
  },
  {
   "cell_type": "code",
   "execution_count": null,
   "metadata": {},
   "outputs": [],
   "source": [
    "# PLEASE MAKE SURE TO INCLUDE THE FOLLOWING BETWEEN THE START AND STOP COMMENTS:\n",
    "#   1) Textual description of your system.\n",
    "#   2) The code for your original system.\n",
    "#   3) The score achieved by your system in place of MY_NUMBER.\n",
    "#        With no other changes to that line.\n",
    "#        You should report your score as a decimal value <=1.0\n",
    "# PLEASE MAKE SURE NOT TO DELETE OR EDIT THE START AND STOP COMMENTS\n",
    "\n",
    "# NOTE: MODULES, CODE AND DATASETS REQUIRED FOR YOUR ORIGINAL SYSTEM\n",
    "# SHOULD BE ADDED BELOW THE 'IS_GRADESCOPE_ENV' CHECK CONDITION. DOING\n",
    "# SO ABOVE THE CHECK MAY CAUSE THE AUTOGRADER TO FAIL.\n",
    "\n",
    "# START COMMENT: Enter your system description in this cell.\n",
    "# My peak score was: MY_NUMBER\n",
    "if 'IS_GRADESCOPE_ENV' not in os.environ:\n",
    "    pass\n",
    "\n",
    "# STOP COMMENT: Please do not remove this comment."
   ]
  },
  {
   "cell_type": "markdown",
   "metadata": {},
   "source": [
    "## Bakeoff [1 point]"
   ]
  },
  {
   "cell_type": "markdown",
   "metadata": {},
   "source": [
    "For the bake-off, we will use our original test set. The function you need to run for the submission is the following, which uses your `evaluate_original_system` from above:"
   ]
  },
  {
   "cell_type": "code",
   "execution_count": null,
   "metadata": {},
   "outputs": [],
   "source": [
    "def create_bakeoff_submission(\n",
    "        trained_model,\n",
    "        output_filename='cs224u-colors-bakeoff-entry.csv'):\n",
    "    bakeoff_src_filename = os.path.join(\n",
    "        \"data\", \"colors\", \"cs224u-colors-test.csv\")\n",
    "\n",
    "    bakeoff_corpus = ColorsCorpusReader(bakeoff_src_filename)\n",
    "\n",
    "    # This code just extracts the colors and texts from the new corpus:\n",
    "    bakeoff_rawcols, bakeoff_texts = zip(*[\n",
    "        [ex.colors, ex.contents] for ex in bakeoff_corpus.read()])\n",
    "\n",
    "    # Original system function call; `trained_model` is your trained model:\n",
    "    evaluation = evaluate_original_system(\n",
    "        trained_model, bakeoff_rawcols, bakeoff_texts)\n",
    "\n",
    "    evaluation['bakeoff_text'] = bakeoff_texts\n",
    "\n",
    "    df = pd.DataFrame(evaluation)\n",
    "    df.to_csv(output_filename)"
   ]
  },
  {
   "cell_type": "code",
   "execution_count": null,
   "metadata": {},
   "outputs": [],
   "source": [
    "# This check ensure that the following code only runs on the local environment only.\n",
    "# The following call will not be run on the autograder environment.\n",
    "if 'IS_GRADESCOPE_ENV' not in os.environ:\n",
    "    pass\n",
    "    create_bakeoff_submission(dev_mod)"
   ]
  },
  {
   "cell_type": "markdown",
   "metadata": {},
   "source": [
    "This creates a file `cs224u-colors-bakeoff-entry.csv` in the current directory. That file should be uploaded as-is. Please do not change its name.\n",
    "\n",
    "Only one upload per team is permitted, and you should do no tuning of your system based on what you see in the file – you should not study that file in anyway, beyond perhaps checking that it contains what you expected it to contain. The upload function will do some additional checking to ensure that your file is well-formed.\n",
    "\n",
    "The nature of our evaluation is such that we have to release the full test set with all labels. Thus, we have to trust you not to make any use of the test set during development. Recall:\n",
    "\n",
    "1. Only one evaluation is permitted.\n",
    "1. No additional system tuning is permitted once the bake-off has started.\n",
    "\n",
    "Systems will be ranked primarily by `listener_accuracy`, but we will also consider their `corpus_bleu` scores. However, the BLEU score is just a simple check that your system is speaking some version of English that corresponds in some meaningful way to the gold descriptions, so you should concentrate on `listener_accuracy`.\n",
    "\n",
    "People who enter will receive the additional homework point, and people whose systems achieve the top score will receive an additional 0.5 points. We will test the top-performing systems ourselves, and only systems for which we can reproduce the reported results will win the extra 0.5 points.\n",
    "\n",
    "Late entries will be accepted, but they cannot earn the extra 0.5 points."
   ]
  },
  {
   "cell_type": "markdown",
   "metadata": {},
   "source": [
    "## Submission Instruction\n",
    "\n",
    "Review and follow the [Homework and bake-off code: Formatting guide](hw_formatting_guide.ipynb).\n",
    "Please do not change the file name as described below.\n",
    "\n",
    "Submit the following files to Gradescope:\n",
    "\n",
    "- `hw_colors.ipynb` (this notebook)\n",
    "- `cs224u-colors-bakeoff-entry.csv` (bake-off output)"
   ]
  }
 ],
 "metadata": {
  "kernelspec": {
   "display_name": "nlu",
   "language": "python",
   "name": "nlu"
  },
  "language_info": {
   "codemirror_mode": {
    "name": "ipython",
    "version": 3
   },
   "file_extension": ".py",
   "mimetype": "text/x-python",
   "name": "python",
   "nbconvert_exporter": "python",
   "pygments_lexer": "ipython3",
   "version": "3.8.12"
  }
 },
 "nbformat": 4,
 "nbformat_minor": 4
}
